{
 "cells": [
  {
   "cell_type": "code",
   "execution_count": 1,
   "id": "48d6e690-d5eb-40ea-ba2e-e6c0e6e72aa9",
   "metadata": {
    "tags": []
   },
   "outputs": [
    {
     "name": "stdout",
     "output_type": "stream",
     "text": [
      "Titre du film: \n",
      "                            Mon roi\n"
     ]
    }
   ],
   "source": [
    "import requests\n",
    "from bs4 import BeautifulSoup\n",
    "\n",
    "# URL de la fiche de film\n",
    "url = 'https://www.jpbox-office.com/fichfilm.php?id=15278'\n",
    "\n",
    "# Envoyer une requête HTTP GET à l'URL\n",
    "response = requests.get(url)\n",
    "\n",
    "# Analyser le contenu HTML de la page avec Beautiful Soup\n",
    "soup = BeautifulSoup(response.text, 'html.parser')\n",
    "\n",
    "# Exemple d'extraction du titre du film\n",
    "# Ceci est un exemple générique et peut ne pas fonctionner tel quel sans adaptation\n",
    "titre = soup.find('h1').text\n",
    "\n",
    "print(f'Titre du film: {titre}')"
   ]
  },
  {
   "cell_type": "code",
   "execution_count": 3,
   "id": "aef221a2-dbf0-4c84-9eca-ff4ccc7377fc",
   "metadata": {
    "tags": []
   },
   "outputs": [
    {
     "name": "stdout",
     "output_type": "stream",
     "text": [
      "Titre: \n",
      "                            Mon roi\n",
      "Budget: 9 473 556 €\n"
     ]
    },
    {
     "name": "stderr",
     "output_type": "stream",
     "text": [
      "C:\\Users\\maoui\\AppData\\Local\\Temp\\ipykernel_9352\\3263200215.py:13: DeprecationWarning: The 'text' argument to find()-type methods is deprecated. Use 'string' instead.\n",
      "  budget_tag = soup.find(text='Budget').findNext('td')\n"
     ]
    }
   ],
   "source": [
    "# URL de la fiche film\n",
    "url = 'https://www.jpbox-office.com/fichfilm.php?id=15278'\n",
    "\n",
    "# Envoyer une requête HTTP GET à l'URL\n",
    "response = requests.get(url)\n",
    "\n",
    "# Parser le contenu HTML de la page avec BeautifulSoup\n",
    "soup = BeautifulSoup(response.text, 'html.parser')\n",
    "\n",
    "# Rechercher les données spécifiques : titre et budget\n",
    "# Remarque : Ces sélecteurs dépendent fortement de la structure du site et peuvent nécessiter des ajustements.\n",
    "titre = soup.find('h1').text\n",
    "budget_tag = soup.find(text='Budget').findNext('td')\n",
    "\n",
    "# Afficher le titre et le budget\n",
    "print(f\"Titre: {titre}\")\n",
    "if budget_tag:\n",
    "    print(f\"Budget: {budget_tag.text}\")\n",
    "else:\n",
    "    print(\"Budget non trouvé\")"
   ]
  },
  {
   "cell_type": "code",
   "execution_count": 16,
   "id": "274851ad-a310-462d-acfe-e9e75b685c9c",
   "metadata": {
    "tags": []
   },
   "outputs": [
    {
     "name": "stdout",
     "output_type": "stream",
     "text": [
      "       ID                                              Titre          Budget\n",
      "0   15270                         Qui c'est les plus forts ?     6 227 650 €\n",
      "1   15271                                     Valley of Love     2 900 626 €\n",
      "2   15272                                  Daddy Cool (2015)     6 700 000 $\n",
      "3   15273  Love & Mercy, la vÃ©ritable histoire de Brian ...             ? $\n",
      "4   15274                                          11th Hour  Budget inconnu\n",
      "5   15275                              Set Fire to the Stars             ? $\n",
      "6   15276                                     MacBeth (2015)             ? $\n",
      "7   15277                                            Dheepan     7 984 811 €\n",
      "8   15278                                            Mon roi     9 473 556 €\n",
      "9   15279                                              Carol    11 800 000 $\n",
      "10  15280                                       The Assassin    14 900 000 $\n"
     ]
    }
   ],
   "source": [
    "import requests\n",
    "from bs4 import BeautifulSoup\n",
    "import pandas as pd\n",
    "\n",
    "# Initialisation du DataFrame\n",
    "df_films = pd.DataFrame(columns=['ID', 'Titre', 'Budget'])\n",
    "\n",
    "# Définition de la plage des ID des films à scraper\n",
    "id_debut = 15270\n",
    "id_fin = 15280\n",
    "\n",
    "# Boucle à travers les ID de films\n",
    "for film_id in range(id_debut, id_fin + 1):\n",
    "    url = f'https://www.jpbox-office.com/fichfilm.php?id={film_id}'\n",
    "    \n",
    "    try:\n",
    "        response = requests.get(url)\n",
    "        if response.status_code == 200:\n",
    "            soup = BeautifulSoup(response.content, 'html.parser')\n",
    "            \n",
    "            # Extraction du titre\n",
    "            titre_element = soup.find('h1')\n",
    "            titre_film = titre_element.text.strip() if titre_element else 'Titre inconnu'\n",
    "            \n",
    "            # Tentative d'extraction du budget\n",
    "            try:\n",
    "                # Utilisation de string au lieu de text pour éviter l'avertissement de dépréciation\n",
    "                budget_tag = soup.find(string='Budget').find_next('td')\n",
    "                budget_film = budget_tag.text if budget_tag else 'Budget inconnu'\n",
    "            except AttributeError:\n",
    "                # Gestion du cas où 'Budget' n'est pas trouvé\n",
    "                budget_film = 'Budget inconnu'\n",
    "            \n",
    "            # Ajout des données au DataFrame\n",
    "            df_temp = pd.DataFrame([[film_id, titre_film, budget_film]], columns=['ID', 'Titre', 'Budget'])\n",
    "            df_films = pd.concat([df_films, df_temp], ignore_index=True)\n",
    "    except Exception as e:\n",
    "        print(f\"Erreur lors du scraping de l'ID {film_id}: {e}\")\n",
    "\n",
    "# Affichage du DataFrame pour vérification\n",
    "print(df_films)\n"
   ]
  },
  {
   "cell_type": "code",
   "execution_count": 18,
   "id": "73ffa75d-b0e1-4741-9630-20d0d291b5e1",
   "metadata": {
    "tags": []
   },
   "outputs": [
    {
     "name": "stdout",
     "output_type": "stream",
     "text": [
      "       ID                         Titre Local          Titre International  \\\n",
      "0   15270  Qui c\\'est les plus forts ? (2015)  Titre international inconnu   \n",
      "1   15271               Valley of Love (2015)  Titre international inconnu   \n",
      "2   15272        Infinitely Polar Bear (2015)  Titre international inconnu   \n",
      "3   15273                 Love & Mercy (2015)  Titre international inconnu   \n",
      "4   15274                    11th Hour (2015)  Titre international inconnu   \n",
      "5   15275        Set Fire to the Stars (2015)  Titre international inconnu   \n",
      "6   15276                             MacBeth                         2015   \n",
      "7   15277                      Dheepan (2015)  Titre international inconnu   \n",
      "8   15278                             Mon roi                      My King   \n",
      "9   15279                        Carol (2015)  Titre international inconnu   \n",
      "10  15280                       Nie yin niang                 The Assassin   \n",
      "\n",
      "            Budget  \n",
      "0      6 227 650 €  \n",
      "1      2 900 626 €  \n",
      "2      6 700 000 $  \n",
      "3              ? $  \n",
      "4   Budget inconnu  \n",
      "5              ? $  \n",
      "6              ? $  \n",
      "7      7 984 811 €  \n",
      "8      9 473 556 €  \n",
      "9     11 800 000 $  \n",
      "10    14 900 000 $  \n"
     ]
    }
   ],
   "source": [
    "import requests\n",
    "from bs4 import BeautifulSoup\n",
    "import pandas as pd\n",
    "import re  # Import du module pour les expressions régulières\n",
    "\n",
    "# Initialisation du DataFrame\n",
    "df_films = pd.DataFrame(columns=['ID', 'Titre Local', 'Titre International', 'Budget'])\n",
    "\n",
    "# Définition de la plage des ID des films à scraper\n",
    "id_debut = 15270\n",
    "id_fin = 15280\n",
    "\n",
    "# Boucle à travers les ID de films\n",
    "for film_id in range(id_debut, id_fin + 1):\n",
    "    url = f'https://www.jpbox-office.com/fichfilm.php?id={film_id}'\n",
    "    \n",
    "    try:\n",
    "        response = requests.get(url)\n",
    "        if response.status_code == 200:\n",
    "            soup = BeautifulSoup(response.content, 'html.parser')\n",
    "            \n",
    "            # Extraction et traitement du titre à partir de l'élément <title>\n",
    "            title_element = soup.head.find('title')\n",
    "            title_text = title_element.text if title_element else ''\n",
    "            \n",
    "            # Utilisation d'une expression régulière pour extraire le titre local et international\n",
    "            match = re.match(r\"(.+?) \\((.+?)\\) \\(\\d{4}\\)\", title_text)\n",
    "            if match:\n",
    "                titre_local = match.group(1)\n",
    "                titre_international = match.group(2)\n",
    "            else:\n",
    "                titre_local = title_text.split(' - ')[0]  # Fallback sur le titre complet sans traitement\n",
    "                titre_international = 'Titre international inconnu'\n",
    "            \n",
    "            # Tentative d'extraction du budget\n",
    "            try:\n",
    "                budget_tag = soup.find(string='Budget').find_next('td')\n",
    "                budget_film = budget_tag.text.strip() if budget_tag else 'Budget inconnu'\n",
    "            except AttributeError:\n",
    "                budget_film = 'Budget inconnu'\n",
    "            \n",
    "            # Ajout des données au DataFrame\n",
    "            df_temp = pd.DataFrame([[film_id, titre_local, titre_international, budget_film]], columns=['ID', 'Titre Local', 'Titre International', 'Budget'])\n",
    "            df_films = pd.concat([df_films, df_temp], ignore_index=True)\n",
    "    except Exception as e:\n",
    "        print(f\"Erreur lors du scraping de l'ID {film_id}: {e}\")\n",
    "\n",
    "# Affichage du DataFrame pour vérification\n",
    "print(df_films)\n"
   ]
  },
  {
   "cell_type": "code",
   "execution_count": 19,
   "id": "93c329d1-349a-4e0b-ac16-35ae48842634",
   "metadata": {
    "tags": []
   },
   "outputs": [],
   "source": [
    "df_films.to_csv(r\"C:\\Users\\maoui\\OneDrive\\Documents\\Data Scientest\\DTS - Projet\\jpboxoffice.csv\", index=False)"
   ]
  },
  {
   "cell_type": "code",
   "execution_count": 21,
   "id": "c3a3f80e-035b-4c55-b4ff-22499841c428",
   "metadata": {
    "tags": []
   },
   "outputs": [
    {
     "name": "stdout",
     "output_type": "stream",
     "text": [
      "       ID                         Titre Local          Titre International  \\\n",
      "0   15270  Qui c\\'est les plus forts ? (2015)  Titre international inconnu   \n",
      "1   15271               Valley of Love (2015)  Titre international inconnu   \n",
      "2   15272        Infinitely Polar Bear (2015)  Titre international inconnu   \n",
      "3   15273                 Love & Mercy (2015)  Titre international inconnu   \n",
      "4   15274                    11th Hour (2015)  Titre international inconnu   \n",
      "5   15275        Set Fire to the Stars (2015)  Titre international inconnu   \n",
      "6   15276                             MacBeth                         2015   \n",
      "7   15277                      Dheepan (2015)  Titre international inconnu   \n",
      "8   15278                             Mon roi                      My King   \n",
      "9   15279                        Carol (2015)  Titre international inconnu   \n",
      "10  15280                       Nie yin niang                 The Assassin   \n",
      "\n",
      "            Budget           Annee  \n",
      "0       6 227 650   Année inconnue  \n",
      "1       2 900 626   Année inconnue  \n",
      "2      6 700 000 $  Année inconnue  \n",
      "3              ? $  Année inconnue  \n",
      "4   Budget inconnu  Année inconnue  \n",
      "5              ? $  Année inconnue  \n",
      "6              ? $            2015  \n",
      "7       7 984 811   Année inconnue  \n",
      "8       9 473 556             2015  \n",
      "9     11 800 000 $  Année inconnue  \n",
      "10    14 900 000 $            2015  \n"
     ]
    }
   ],
   "source": [
    "import requests\n",
    "from bs4 import BeautifulSoup\n",
    "import pandas as pd\n",
    "import re  # Utiliser les expressions régulières pour extraire les titres et années\n",
    "\n",
    "# Initialisation du DataFrame\n",
    "df_films = pd.DataFrame(columns=['ID', 'Titre Local', 'Titre International', 'Budget', 'Annee'])\n",
    "\n",
    "# Définition de la plage des ID des films à scraper\n",
    "id_debut = 15270\n",
    "id_fin = 15280\n",
    "\n",
    "# Boucle à travers les ID de films\n",
    "for film_id in range(id_debut, id_fin + 1):\n",
    "    url = f'https://www.jpbox-office.com/fichfilm.php?id={film_id}'\n",
    "    \n",
    "    try:\n",
    "        response = requests.get(url)\n",
    "        if response.status_code == 200:\n",
    "            soup = BeautifulSoup(response.content, 'html.parser')\n",
    "            \n",
    "            # Extraction et traitement du titre à partir de l'élément <title>\n",
    "            title_element = soup.head.find('title')\n",
    "            title_text = title_element.text if title_element else ''\n",
    "            \n",
    "            # Utilisation d'une expression régulière pour extraire le titre local, international et l'année\n",
    "            match = re.search(r'(.+?) \\((.*?)\\) \\((\\d{4})\\)', title_text)\n",
    "            if match:\n",
    "                titre_local = match.group(1)\n",
    "                titre_international = match.group(2) if match.group(2) else 'Titre international inconnu'\n",
    "                annee = match.group(3)\n",
    "            else:\n",
    "                titre_local = title_text.split(' - ')[0]  # Fallback sur le titre complet sans traitement\n",
    "                titre_international = 'Titre international inconnu'\n",
    "                annee = 'Année inconnue'\n",
    "            \n",
    "            # Tentative d'extraction du budget\n",
    "            budget_tag = soup.find('td', string=re.compile('Budget'))\n",
    "            budget_film = budget_tag.find_next('td').text.strip() if budget_tag else 'Budget inconnu'\n",
    "            budget_film = budget_film.replace(u'\\xa0', u' ').encode('ascii', 'ignore').decode('ascii')\n",
    "            \n",
    "            # Ajout des données au DataFrame\n",
    "            df_temp = pd.DataFrame([[film_id, titre_local, titre_international, budget_film, annee]], columns=['ID', 'Titre Local', 'Titre International', 'Budget', 'Annee'])\n",
    "            df_films = pd.concat([df_films, df_temp], ignore_index=True)\n",
    "    except Exception as e:\n",
    "        print(f\"Erreur lors du scraping de l'ID {film_id}: {e}\")\n",
    "\n",
    "# Affichage du DataFrame pour vérification\n",
    "print(df_films)\n"
   ]
  }
 ],
 "metadata": {
  "kernelspec": {
   "display_name": "Python 3 (ipykernel)",
   "language": "python",
   "name": "python3"
  },
  "language_info": {
   "codemirror_mode": {
    "name": "ipython",
    "version": 3
   },
   "file_extension": ".py",
   "mimetype": "text/x-python",
   "name": "python",
   "nbconvert_exporter": "python",
   "pygments_lexer": "ipython3",
   "version": "3.11.5"
  }
 },
 "nbformat": 4,
 "nbformat_minor": 5
}
