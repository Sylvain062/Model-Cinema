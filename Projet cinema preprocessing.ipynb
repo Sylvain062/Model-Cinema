{
 "cells": [
  {
   "cell_type": "code",
   "execution_count": 26,
   "id": "99c7ab11",
   "metadata": {},
   "outputs": [
    {
     "name": "stdout",
     "output_type": "stream",
     "text": [
      "Shape_Etape#2  (12414, 19)\n",
      "Shape_Etape#2  (12414, 30)\n",
      "Shape_Etape#3  (12411, 39)\n",
      "Shape_Etape#4  (12183, 46)\n"
     ]
    },
    {
     "data": {
      "text/html": [
       "<div>\n",
       "<style scoped>\n",
       "    .dataframe tbody tr th:only-of-type {\n",
       "        vertical-align: middle;\n",
       "    }\n",
       "\n",
       "    .dataframe tbody tr th {\n",
       "        vertical-align: top;\n",
       "    }\n",
       "\n",
       "    .dataframe thead th {\n",
       "        text-align: right;\n",
       "    }\n",
       "</style>\n",
       "<table border=\"1\" class=\"dataframe\">\n",
       "  <thead>\n",
       "    <tr style=\"text-align: right;\">\n",
       "      <th></th>\n",
       "      <th>0</th>\n",
       "    </tr>\n",
       "  </thead>\n",
       "  <tbody>\n",
       "    <tr>\n",
       "      <th>titre</th>\n",
       "      <td>object</td>\n",
       "    </tr>\n",
       "    <tr>\n",
       "      <th>titre_original</th>\n",
       "      <td>object</td>\n",
       "    </tr>\n",
       "    <tr>\n",
       "      <th>acteurs</th>\n",
       "      <td>object</td>\n",
       "    </tr>\n",
       "    <tr>\n",
       "      <th>acteur_1</th>\n",
       "      <td>object</td>\n",
       "    </tr>\n",
       "    <tr>\n",
       "      <th>acteur_2</th>\n",
       "      <td>object</td>\n",
       "    </tr>\n",
       "    <tr>\n",
       "      <th>acteur_3</th>\n",
       "      <td>object</td>\n",
       "    </tr>\n",
       "    <tr>\n",
       "      <th>acteur_4</th>\n",
       "      <td>object</td>\n",
       "    </tr>\n",
       "    <tr>\n",
       "      <th>realisateur</th>\n",
       "      <td>object</td>\n",
       "    </tr>\n",
       "    <tr>\n",
       "      <th>real_1</th>\n",
       "      <td>object</td>\n",
       "    </tr>\n",
       "    <tr>\n",
       "      <th>real_2</th>\n",
       "      <td>object</td>\n",
       "    </tr>\n",
       "    <tr>\n",
       "      <th>real_3</th>\n",
       "      <td>object</td>\n",
       "    </tr>\n",
       "    <tr>\n",
       "      <th>genres</th>\n",
       "      <td>object</td>\n",
       "    </tr>\n",
       "    <tr>\n",
       "      <th>genre_1</th>\n",
       "      <td>object</td>\n",
       "    </tr>\n",
       "    <tr>\n",
       "      <th>genre_2</th>\n",
       "      <td>object</td>\n",
       "    </tr>\n",
       "    <tr>\n",
       "      <th>genre_3</th>\n",
       "      <td>object</td>\n",
       "    </tr>\n",
       "    <tr>\n",
       "      <th>genre_4</th>\n",
       "      <td>object</td>\n",
       "    </tr>\n",
       "    <tr>\n",
       "      <th>genre_5</th>\n",
       "      <td>object</td>\n",
       "    </tr>\n",
       "    <tr>\n",
       "      <th>genre_6</th>\n",
       "      <td>object</td>\n",
       "    </tr>\n",
       "    <tr>\n",
       "      <th>genre_7</th>\n",
       "      <td>object</td>\n",
       "    </tr>\n",
       "    <tr>\n",
       "      <th>scenariste</th>\n",
       "      <td>object</td>\n",
       "    </tr>\n",
       "    <tr>\n",
       "      <th>scen_1</th>\n",
       "      <td>object</td>\n",
       "    </tr>\n",
       "    <tr>\n",
       "      <th>scen_2</th>\n",
       "      <td>object</td>\n",
       "    </tr>\n",
       "    <tr>\n",
       "      <th>scen_3</th>\n",
       "      <td>object</td>\n",
       "    </tr>\n",
       "    <tr>\n",
       "      <th>duree</th>\n",
       "      <td>float64</td>\n",
       "    </tr>\n",
       "    <tr>\n",
       "      <th>note_presse</th>\n",
       "      <td>float64</td>\n",
       "    </tr>\n",
       "    <tr>\n",
       "      <th>note_spectateurs</th>\n",
       "      <td>float64</td>\n",
       "    </tr>\n",
       "    <tr>\n",
       "      <th>pays</th>\n",
       "      <td>object</td>\n",
       "    </tr>\n",
       "    <tr>\n",
       "      <th>distributeur</th>\n",
       "      <td>object</td>\n",
       "    </tr>\n",
       "    <tr>\n",
       "      <th>distrib_1</th>\n",
       "      <td>object</td>\n",
       "    </tr>\n",
       "    <tr>\n",
       "      <th>distrib_2</th>\n",
       "      <td>object</td>\n",
       "    </tr>\n",
       "    <tr>\n",
       "      <th>distrib_3</th>\n",
       "      <td>object</td>\n",
       "    </tr>\n",
       "    <tr>\n",
       "      <th>budget</th>\n",
       "      <td>float64</td>\n",
       "    </tr>\n",
       "    <tr>\n",
       "      <th>premiere_semaine_france</th>\n",
       "      <td>float64</td>\n",
       "    </tr>\n",
       "    <tr>\n",
       "      <th>cumul_france</th>\n",
       "      <td>float64</td>\n",
       "    </tr>\n",
       "    <tr>\n",
       "      <th>premiere_semaine_US</th>\n",
       "      <td>float64</td>\n",
       "    </tr>\n",
       "    <tr>\n",
       "      <th>cumul_US</th>\n",
       "      <td>float64</td>\n",
       "    </tr>\n",
       "    <tr>\n",
       "      <th>date2</th>\n",
       "      <td>datetime64[ns]</td>\n",
       "    </tr>\n",
       "    <tr>\n",
       "      <th>annee</th>\n",
       "      <td>float64</td>\n",
       "    </tr>\n",
       "    <tr>\n",
       "      <th>jour_split</th>\n",
       "      <td>float64</td>\n",
       "    </tr>\n",
       "    <tr>\n",
       "      <th>mois_split</th>\n",
       "      <td>float64</td>\n",
       "    </tr>\n",
       "    <tr>\n",
       "      <th>annee_split</th>\n",
       "      <td>float64</td>\n",
       "    </tr>\n",
       "    <tr>\n",
       "      <th>day_of_week_split</th>\n",
       "      <td>float64</td>\n",
       "    </tr>\n",
       "    <tr>\n",
       "      <th>year</th>\n",
       "      <td>int64</td>\n",
       "    </tr>\n",
       "  </tbody>\n",
       "</table>\n",
       "</div>"
      ],
      "text/plain": [
       "                                      0\n",
       "titre                            object\n",
       "titre_original                   object\n",
       "acteurs                          object\n",
       "acteur_1                         object\n",
       "acteur_2                         object\n",
       "acteur_3                         object\n",
       "acteur_4                         object\n",
       "realisateur                      object\n",
       "real_1                           object\n",
       "real_2                           object\n",
       "real_3                           object\n",
       "genres                           object\n",
       "genre_1                          object\n",
       "genre_2                          object\n",
       "genre_3                          object\n",
       "genre_4                          object\n",
       "genre_5                          object\n",
       "genre_6                          object\n",
       "genre_7                          object\n",
       "scenariste                       object\n",
       "scen_1                           object\n",
       "scen_2                           object\n",
       "scen_3                           object\n",
       "duree                           float64\n",
       "note_presse                     float64\n",
       "note_spectateurs                float64\n",
       "pays                             object\n",
       "distributeur                     object\n",
       "distrib_1                        object\n",
       "distrib_2                        object\n",
       "distrib_3                        object\n",
       "budget                          float64\n",
       "premiere_semaine_france         float64\n",
       "cumul_france                    float64\n",
       "premiere_semaine_US             float64\n",
       "cumul_US                        float64\n",
       "date2                    datetime64[ns]\n",
       "annee                           float64\n",
       "jour_split                      float64\n",
       "mois_split                      float64\n",
       "annee_split                     float64\n",
       "day_of_week_split               float64\n",
       "year                              int64"
      ]
     },
     "metadata": {},
     "output_type": "display_data"
    }
   ],
   "source": [
    "import numpy as np\n",
    "import pandas as pd\n",
    "import matplotlib.pyplot as plt\n",
    "%matplotlib inline\n",
    "import seaborn as sns\n",
    "import os\n",
    "#test\n",
    "#************************************************************************\n",
    "# os.chdir('D:/Sylvain/github/Projet-Cinema')\n",
    "df=pd.read_csv('allocine_V1.csv', sep=\",\", index_col='ID')\n",
    "print('Shape_Etape#2 ' ,df.shape)\n",
    "# on remplace les virgules par des points pour les notes\n",
    "df['note_presse']=df['note_presse'].replace(',', '.', regex=True)\n",
    "df['note_spectateurs']=df['note_spectateurs'].replace(',', '.', regex=True)\n",
    "df=df.astype({\"note_spectateurs\":\"float\",\"note_presse\":\"float\"})\n",
    "#on sépare les genres en plusieurs colonnes (1 genre par colonne)\n",
    "df[['genre_1','genre_2','genre_3','genre_4','genre_5','genre_6','genre_7']]=df['genre'].str.split(',', expand=True)\n",
    "df=df.rename({\"genre\":\"genres\"},axis=1)\n",
    "df[['acteur_1','acteur_2','acteur_3','acteur_4']]=df['acteurs'].str.split(',', expand=True) # idem pour acteurs\n",
    "print('Shape_Etape#2 ' ,df.shape)\n",
    "# idem pour realisateurs mais on ne prend que les 3 premiers\n",
    "a=[]\n",
    "b=[]\n",
    "c=[]\n",
    "df['realisateur'].fillna('XXXX', inplace=True) # ca sert à éviter de faire planter le split si valeur Nan\n",
    "for i in range(len(df)):\n",
    "    if df['realisateur'].iloc[i].count(',')==0:\n",
    "        a.append(df['realisateur'].iloc[i].split(',')[0])\n",
    "        b.append(np.NaN)\n",
    "        c.append(np.NaN)\n",
    "    elif df['realisateur'].iloc[i].count(',')==1:\n",
    "        a.append(df['realisateur'].iloc[i].split(',')[0])\n",
    "        b.append(df['realisateur'].iloc[i].split(',')[1])\n",
    "        c.append(np.NaN)\n",
    "    elif df['realisateur'].iloc[i].count(',')>=2:\n",
    "        a.append(df['realisateur'].iloc[i].split(',')[0])\n",
    "        b.append(df['realisateur'].iloc[i].split(',')[1])\n",
    "        c.append(df['realisateur'].iloc[i].split(',')[2])\n",
    "df.insert(3,'real_1',a)\n",
    "df.insert(4,'real_2',b)\n",
    "df.insert(5,'real_3',c)\n",
    "df['realisateur']=df['realisateur'].replace('XXXX',np.NaN,regex=True) # et je retire les XXXX\n",
    "df['real_1']=df['real_1'].replace('XXXX',np.NaN,regex=True) # et je retire les XXXX\n",
    "#********************** pour les scenaristes et on prend les 3 premiers\n",
    "a=[]\n",
    "b=[]\n",
    "c=[]\n",
    "df['scenariste'].fillna('XXXX', inplace=True) # ca sert à éviter de faire planter le split si valeur Nan\n",
    "for i in range(len(df)):\n",
    "    if df['scenariste'].iloc[i].count(',')==0:\n",
    "        a.append(df['scenariste'].iloc[i].split(',')[0])\n",
    "        b.append(np.NaN)\n",
    "        c.append(np.NaN)\n",
    "    elif df['scenariste'].iloc[i].count(',')==1:\n",
    "        a.append(df['scenariste'].iloc[i].split(',')[0])\n",
    "        b.append(df['scenariste'].iloc[i].split(',')[1])\n",
    "        c.append(np.NaN)\n",
    "    elif df['scenariste'].iloc[i].count(',')>=2:\n",
    "        a.append(df['scenariste'].iloc[i].split(',')[0])\n",
    "        b.append(df['scenariste'].iloc[i].split(',')[1])\n",
    "        c.append(df['scenariste'].iloc[i].split(',')[2])\n",
    "df.insert(7,'scen_1',a)\n",
    "df.insert(8,'scen_2',b)\n",
    "df.insert(9,'scen_3',c)\n",
    "df['scenariste']=df['scenariste'].replace('XXXX',np.NaN,regex=True) # et je retire les XXXX\n",
    "df['scen_1']=df['scen_1'].replace('XXXX',np.NaN,regex=True) # et je retire les XXXX\n",
    "#********************** pour les distributeurs et on prend les 3 premiers\n",
    "a=[]\n",
    "b=[]\n",
    "c=[]\n",
    "df['distributeur'].fillna('XXXX', inplace=True) # ca sert à éviter de faire planter le split si valeur Nan\n",
    "for i in range(len(df)):\n",
    "    if df['distributeur'].iloc[i].count('/')==0:\n",
    "        a.append(df['distributeur'].iloc[i].split('/')[0])\n",
    "        b.append(np.NaN)\n",
    "        c.append(np.NaN)\n",
    "    elif df['distributeur'].iloc[i].count('/')==1:\n",
    "        a.append(df['distributeur'].iloc[i].split('/')[0])\n",
    "        b.append(df['distributeur'].iloc[i].split('/')[1])\n",
    "        c.append(np.NaN)\n",
    "    elif df['distributeur'].iloc[i].count('/')>=2:\n",
    "        a.append(df['distributeur'].iloc[i].split('/')[0])\n",
    "        b.append(df['distributeur'].iloc[i].split('/')[1])\n",
    "        c.append(df['distributeur'].iloc[i].split('/')[2])\n",
    "df.insert(7,'distrib_1',a)\n",
    "df.insert(8,'distrib_2',b)\n",
    "df.insert(9,'distrib_3',c)\n",
    "df['distributeur']=df['distributeur'].replace('XXXX',np.NaN,regex=True) # et je retire les XXXX\n",
    "df['distrib_1']=df['distrib_1'].replace('XXXX',np.NaN,regex=True) # et je retire les XXXX\n",
    "# # ******************************************************************\n",
    "# #on enleve les films 257571,291995, 36282 et toutes les date commencant par publiée le\n",
    "df.drop(257571,inplace=True)\n",
    "df.drop(291995,inplace=True)\n",
    "df.drop(36282,inplace=True)\n",
    "\n",
    "df['date']=df['date'].replace('Publiée le ', '', regex=True)\n",
    "print('Shape_Etape#3 ' ,df.shape)\n",
    "# #******************************************************************\n",
    "# #******** extraction des mois (conversion str en num de mois ********\n",
    "# #*********************************************************************\n",
    "df['date'].fillna('XX XX XXXX', inplace=True) # ca sert à éviter de faire planter le split si valeur Nan\n",
    "df[['jour_split','mois_split','annee_split']]=df['date'].str.split(' ', expand=True)\n",
    "# on remplace les mois en str par leurs numéros\n",
    "df['mois_split'].replace({'janvier' : '1','février' : '2','mars' : '3','avril' : '4','mai' : '5','juin' : '6',\n",
    "                               'juillet' : '7','août' : '8','septembre' : '9','octobre' : '10',\n",
    "                               'novembre' : '11','décembre' : '12', },inplace = True)\n",
    "df['date']=df['date'].replace('XX XX XXXX',np.NaN,regex=True) # et je retire les XXXX\n",
    "df['jour_split']=df['jour_split'].replace('XX',np.NaN,regex=True) # et je retire les XXXX\n",
    "df['mois_split']=df['mois_split'].replace('XX',np.NaN,regex=True) # et je retire les XXXX\n",
    "df['annee_split']=df['annee_split'].replace('XXXX',np.NaN,regex=True) # et je retire les XXXX\n",
    "# on cree un colonne date avec les jours,mois, annee\n",
    "df.insert(30,'date2',pd.to_datetime(dict(year=df.annee_split, month=df.mois_split, day=df.jour_split)))\n",
    "#on cree une colonne avec les jours semaine\n",
    "df['day_of_week_split'] = df['date2'].dt.weekday\n",
    "\n",
    "\n",
    "#************** traitement des budgets & devises ***************************\n",
    "# on crée une colonne de Nan pour identifier les devises\n",
    "df.insert(30,'devises',np.NaN)\n",
    "df['budget'].fillna('XX', inplace=True) # ca sert à éviter de faire planter le split si valeur Nan\n",
    "#puis on regarde pour chaque cellule du budget si un signe de devise apparait et on indique dans la cellule devise la correspondance\n",
    "pd.options.mode.chained_assignment = None\n",
    "for i in range(df.shape[0]):\n",
    "    if df['budget'].iloc[i].find(\"$\") >=0 :\n",
    "          df['devises'].iloc[i]='dollars'\n",
    "    elif df['budget'].iloc[i].lower().find(\"usd\") >=0 :\n",
    "          df['devises'].iloc[i]='dollars'\n",
    "    elif df['budget'].iloc[i].lower().find(\"dolla\") >=0 :\n",
    "          df['devises'].iloc[i]='dollars'\n",
    "    elif df['budget'].iloc[i].find(\"€\") >=0 :\n",
    "        df['devises'].iloc[i]='euros'\n",
    "    elif df['budget'].iloc[i].lower().find(\"eur\") >=0 :\n",
    "        df['devises'].iloc[i]='euros'\n",
    "    elif df['budget'].iloc[i].find(\"F\") >=0 :\n",
    "        df['devises'].iloc[i]='francs'\n",
    "    elif df['budget'].iloc[i].lower().find(\"franc\") >=0 :\n",
    "        df['devises'].iloc[i]='francs'\n",
    "    elif df['budget'].iloc[i].find(\"£\") >=0 :\n",
    "        df['devises'].iloc[i]='livre'\n",
    "    elif df['budget'].iloc[i].lower().find(\"livre\") >=0 :\n",
    "        df['devises'].iloc[i]='livres'\n",
    "    elif df['budget'].iloc[i].lower().find(\"pfund\") >=0 :\n",
    "        df['devises'].iloc[i]='livres'\n",
    "    elif df['budget'].iloc[i].lower().find(\"yen\") >=0 :\n",
    "        df['devises'].iloc[i]='yens'\n",
    "    elif df['budget'].iloc[i].lower().lower().find(\"jpy\") >=0 :\n",
    "        df['devises'].iloc[i]='yens'\n",
    "    elif df['budget'].iloc[i].find(\"¥\") >=0 :\n",
    "        df['devises'].iloc[i]='yens'\n",
    "    elif df['budget'].iloc[i].lower().find(\"cad\") >=0 :\n",
    "        df['devises'].iloc[i]='dollars canadiens'\n",
    "    elif df['budget'].iloc[i].lower().find(\"aud\") >=0 :\n",
    "        df['devises'].iloc[i]='dollars australiens'\n",
    "    elif df['budget'].iloc[i].lower().find(\"inr\") >=0 :\n",
    "        df['devises'].iloc[i]='roupie indienne'\n",
    "    elif df['budget'].iloc[i].lower().find(\"nok\") >=0 :\n",
    "        df['devises'].iloc[i]='couronne norvegienne'\n",
    "    else :\n",
    "         df['devises'].iloc[i]='XX'\n",
    "# et je retire les XXXX\n",
    "df['devises']=df['devises'].replace('XX',np.NaN,regex=True) \n",
    "# puis on cree une colonne en copiant la serie budget en ne reprenant que les chiffres\n",
    "import re\n",
    "df.insert(31,'budgets_montants',df['budget'].apply(lambda x: re.sub(r'[^0-9]', '', x)))\n",
    "# on change le type de la colonne\n",
    "df['budgets_montants']=pd.to_numeric(df['budgets_montants'], downcast=\"float\")\n",
    "#on traite les M€\n",
    "# il y a 228 films avec un budget <100000 / choix de supprimer cette infos qui correspond à des M€\n",
    "df=df.loc[(df.budgets_montants.isna())|(df.budgets_montants>100000)]\n",
    "print('Shape_Etape#4 ' ,df.shape)\n",
    "# on supprime l'ancienne colonne budget \n",
    "df = df.drop('budget', axis=1)\n",
    "# on enlève les espaces dans les colonnes nb entrées ****************\n",
    "df.cumul_US = df.cumul_US.str.replace(' ', '')\n",
    "df.cumul_france = df.cumul_france.str.replace(' ', '')\n",
    "df.premiere_semaine_france = df.premiere_semaine_france.str.replace(' ', '')\n",
    "df.premiere_semaine_US = df.premiere_semaine_US.str.replace(' ', '')\n",
    "#************ reagencement des colonnes ************************************\n",
    "df = df.reindex(['titre','titre_original','acteurs','acteur_1', 'acteur_2', 'acteur_3', 'acteur_4', 'realisateur', 'real_1', 'real_2', 'real_3',\n",
    "       'genres', 'genre_1','genre_2', 'genre_3', 'genre_4', 'genre_5','genre_6', 'genre_7',\n",
    "       'scenariste', 'scen_1', 'scen_2', 'scen_3', 'duree',\n",
    "        'note_presse', 'note_spectateurs', 'pays',\n",
    "       'distributeur','distrib_1','distrib_2','distrib_3', 'budget',  'premiere_semaine_france',\n",
    "       'cumul_france', 'premiere_semaine_US', 'cumul_US',   \n",
    "        'date2', 'annee','jour_split',\n",
    "       'mois_split', 'annee_split','day_of_week_split','year'], axis=1)\n",
    "#reformatage des colonnes\n",
    "# df.jour_split=pd.to_numeric('jour_split',errors='coerce')\n",
    "convert_dict = {'jour_split': float,\n",
    "                'mois_split': float,\n",
    "                'annee_split': float,\n",
    "                'cumul_US':float,\n",
    "                'cumul_france':float,\n",
    "                'premiere_semaine_france' :float,\n",
    "                'premiere_semaine_US' :float\n",
    "                }\n",
    " \n",
    "\n",
    "\n",
    "df=df.astype(convert_dict)\n",
    "\n",
    "gg=pd.DataFrame(df.dtypes)\n",
    "display(gg)\n",
    "df.to_csv('allocineV2-SB.csv')"
   ]
  },
  {
   "cell_type": "code",
   "execution_count": 27,
   "id": "1820e606",
   "metadata": {},
   "outputs": [
    {
     "data": {
      "text/plain": [
       "<bound method DataFrame.info of                                                 titre  \\\n",
       "ID                                                      \n",
       "121                 Les Aventuriers de l'Arche perdue   \n",
       "1317                                          Vivre !   \n",
       "2133                                          Top Gun   \n",
       "2314                                     La Passagère   \n",
       "3239            The Lodger: A Story of the London Fog   \n",
       "...                                               ...   \n",
       "322881  Dhruva Natchathiram Chapter 1: Yuddha Kaandam   \n",
       "322942                                          Japan   \n",
       "322948                                Le Balai libéré   \n",
       "323086                           Paris Lost and Found   \n",
       "323712                             L'Etrange parcours   \n",
       "\n",
       "                 titre_original  \\\n",
       "ID                                \n",
       "121     Raiders of the Lost Ark   \n",
       "1317                        NaN   \n",
       "2133                        NaN   \n",
       "2314                  Pasazerka   \n",
       "3239                        NaN   \n",
       "...                         ...   \n",
       "322881                      NaN   \n",
       "322942                      NaN   \n",
       "322948                      NaN   \n",
       "323086                      NaN   \n",
       "323712                      NaN   \n",
       "\n",
       "                                                  acteurs           acteur_1  \\\n",
       "ID                                                                             \n",
       "121     Harrison Ford, Karen Allen, Paul Freeman, John...      Harrison Ford   \n",
       "1317    Aymeric Cormerais, Jean-Jacques Le Vessier, Ga...  Aymeric Cormerais   \n",
       "2133    Tom Cruise, Kelly McGillis, Tom Skerritt, Val ...         Tom Cruise   \n",
       "2314    Anna Ciepielewska, Aleksandra Slaska, Jan Krec...  Anna Ciepielewska   \n",
       "3239    Marie Ault, Arthur Chesney, Reginald Gardiner,...         Marie Ault   \n",
       "...                                                   ...                ...   \n",
       "322881    Vikram, Ritu Varma, Radhika Sarathkumar, Simran             Vikram   \n",
       "322942       Karthi, Anu Emmanuel, Sunil, Rajesh Aggarwal             Karthi   \n",
       "322948                                                NaN                NaN   \n",
       "323086  Sean Cackoski, Corneliu Dragomirescu, Azuki Ha...      Sean Cackoski   \n",
       "323712                                                NaN                NaN   \n",
       "\n",
       "                        acteur_2              acteur_3           acteur_4  \\\n",
       "ID                                                                          \n",
       "121                  Karen Allen          Paul Freeman   John Rhys-Davies   \n",
       "1317     Jean-Jacques Le Vessier          Gaël Tanniou          Lydie Waï   \n",
       "2133              Kelly McGillis          Tom Skerritt         Val Kilmer   \n",
       "2314           Aleksandra Slaska          Jan Kreczmar   Marek Walczewski   \n",
       "3239              Arthur Chesney     Reginald Gardiner   Alfred Hitchcock   \n",
       "...                          ...                   ...                ...   \n",
       "322881                Ritu Varma   Radhika Sarathkumar             Simran   \n",
       "322942              Anu Emmanuel                 Sunil    Rajesh Aggarwal   \n",
       "322948                       NaN                   NaN                NaN   \n",
       "323086     Corneliu Dragomirescu          Azuki Hagino      Dominic Gould   \n",
       "323712                       NaN                   NaN                NaN   \n",
       "\n",
       "                           realisateur                 real_1  \\\n",
       "ID                                                              \n",
       "121                   Steven Spielberg       Steven Spielberg   \n",
       "1317                     Yvon Marciano          Yvon Marciano   \n",
       "2133                        Tony Scott             Tony Scott   \n",
       "2314    Andrzej Munk, Witold Lesiewicz           Andrzej Munk   \n",
       "3239                  Alfred Hitchcock       Alfred Hitchcock   \n",
       "...                                ...                    ...   \n",
       "322881           Gautham Vasudev Menon  Gautham Vasudev Menon   \n",
       "322942                    Raju Murugan           Raju Murugan   \n",
       "322948                   Coline Grando          Coline Grando   \n",
       "323086                    Kartik Singh           Kartik Singh   \n",
       "323712              Jean-Michel Ropers     Jean-Michel Ropers   \n",
       "\n",
       "                   real_2  ... cumul_france premiere_semaine_US   cumul_US  \\\n",
       "ID                         ...                                               \n",
       "121                   NaN  ...          NaN           1673731.0  1673731.0   \n",
       "1317                  NaN  ...       3364.0                 NaN        NaN   \n",
       "2133                  NaN  ...          NaN           1900000.0  1900000.0   \n",
       "2314     Witold Lesiewicz  ...       2640.0                 NaN        NaN   \n",
       "3239                  NaN  ...       1084.0                 NaN        NaN   \n",
       "...                   ...  ...          ...                 ...        ...   \n",
       "322881                NaN  ...          6.0                 NaN        NaN   \n",
       "322942                NaN  ...        684.0                 NaN        NaN   \n",
       "322948                NaN  ...        177.0                 NaN        NaN   \n",
       "323086                NaN  ...        166.0                 NaN        NaN   \n",
       "323712                NaN  ...         45.0                 NaN        NaN   \n",
       "\n",
       "            date2   annee jour_split mois_split annee_split day_of_week_split  \\\n",
       "ID                                                                              \n",
       "121    1981-09-16  1981.0       16.0        9.0      1981.0               2.0   \n",
       "1317   2009-10-07  2009.0        7.0       10.0      2009.0               2.0   \n",
       "2133   1986-09-17  1986.0       17.0        9.0      1986.0               2.0   \n",
       "2314   1964-10-28  1964.0       28.0       10.0      1964.0               2.0   \n",
       "3239   2010-11-17  2010.0       17.0       11.0      2010.0               2.0   \n",
       "...           ...     ...        ...        ...         ...               ...   \n",
       "322881 2023-11-24  2023.0       24.0       11.0      2023.0               4.0   \n",
       "322942 2023-11-10  2023.0       10.0       11.0      2023.0               4.0   \n",
       "322948 2023-12-13  2023.0       13.0       12.0      2023.0               2.0   \n",
       "323086 2023-12-06  2023.0        6.0       12.0      2023.0               2.0   \n",
       "323712 2023-11-22  2023.0       22.0       11.0      2023.0               2.0   \n",
       "\n",
       "        year  \n",
       "ID            \n",
       "121     2012  \n",
       "1317    2009  \n",
       "2133    2013  \n",
       "2314    2023  \n",
       "3239    2010  \n",
       "...      ...  \n",
       "322881  2023  \n",
       "322942  2023  \n",
       "322948  2023  \n",
       "323086  2023  \n",
       "323712  2023  \n",
       "\n",
       "[12183 rows x 43 columns]>"
      ]
     },
     "execution_count": 27,
     "metadata": {},
     "output_type": "execute_result"
    }
   ],
   "source": [
    "df.info"
   ]
  },
  {
   "cell_type": "markdown",
   "id": "94226e78",
   "metadata": {},
   "source": [
    "**Répartition des types de variables du DF**                   "
   ]
  },
  {
   "cell_type": "code",
   "execution_count": 28,
   "id": "e38455fd",
   "metadata": {},
   "outputs": [
    {
     "data": {
      "text/plain": [
       "object            28\n",
       "float64           13\n",
       "datetime64[ns]     1\n",
       "int64              1\n",
       "dtype: int64"
      ]
     },
     "execution_count": 28,
     "metadata": {},
     "output_type": "execute_result"
    },
    {
     "data": {
      "image/png": "[encoded data removed]",
      "text/plain": [
       "<Figure size 432x288 with 1 Axes>"
      ]
     },
     "metadata": {},
     "output_type": "display_data"
    }
   ],
   "source": [
    "df.dtypes.value_counts().plot.pie()\n",
    "df.dtypes.value_counts()    "
   ]
  },
  {
   "cell_type": "markdown",
   "id": "41f4bc90",
   "metadata": {},
   "source": [
    "**Valeurs manquantes du DF**"
   ]
  },
  {
   "cell_type": "code",
   "execution_count": 29,
   "id": "c4c6f5e6",
   "metadata": {},
   "outputs": [
    {
     "data": {
      "image/png": "[encoded data removed]",
      "text/plain": [
       "<Figure size 1440x720 with 1 Axes>"
      ]
     },
     "metadata": {
      "needs_background": "light"
     },
     "output_type": "display_data"
    }
   ],
   "source": [
    "plt.figure(figsize=(20,10))\n",
    "sns.heatmap(df.isna(),cbar=False); "
   ]
  },
  {
   "cell_type": "markdown",
   "id": "5ea68efd",
   "metadata": {},
   "source": [
    "**repartition par nationalité**"
   ]
  },
  {
   "cell_type": "code",
   "execution_count": 30,
   "id": "2cb10992",
   "metadata": {},
   "outputs": [
    {
     "data": {
      "application/vnd.plotly.v1+json": {
       "config": {
        "plotlyServerURL": "https://plot.ly"
       },
       "data": [
        {
         "domain": {
          "x": [
           0,
           1
          ],
          "y": [
           0,
           1
          ]
         },
         "hovertemplate": "label=%{label}<br>value=%{value}<extra></extra>",
         "labels": [
          "Allemagne",
          "Belgique",
          "Canada",
          "Espagne",
          "France",
          "Grande-Bretagne",
          "Inde",
          "Italie",
          "Japon",
          "Other",
          "U.S.A."
         ],
         "legendgroup": "",
         "name": "",
         "showlegend": true,
         "type": "pie",
         "values": [
          255,
          155,
          153,
          215,
          4650,
          489,
          204,
          234,
          204,
          1819,
          3779
         ]
        }
       ],
       "layout": {
        "legend": {
         "tracegroupgap": 0
        },
        "template": {
         "data": {
          "bar": [
           {
            "error_x": {
             "color": "#2a3f5f"
            },
            "error_y": {
             "color": "#2a3f5f"
            },
            "marker": {
             "line": {
              "color": "#E5ECF6",
              "width": 0.5
             },
             "pattern": {
              "fillmode": "overlay",
              "size": 10,
              "solidity": 0.2
             }
            },
            "type": "bar"
           }
          ],
          "barpolar": [
           {
            "marker": {
             "line": {
              "color": "#E5ECF6",
              "width": 0.5
             },
             "pattern": {
              "fillmode": "overlay",
              "size": 10,
              "solidity": 0.2
             }
            },
            "type": "barpolar"
           }
          ],
          "carpet": [
           {
            "aaxis": {
             "endlinecolor": "#2a3f5f",
             "gridcolor": "white",
             "linecolor": "white",
             "minorgridcolor": "white",
             "startlinecolor": "#2a3f5f"
            },
            "baxis": {
             "endlinecolor": "#2a3f5f",
             "gridcolor": "white",
             "linecolor": "white",
             "minorgridcolor": "white",
             "startlinecolor": "#2a3f5f"
            },
            "type": "carpet"
           }
          ],
          "choropleth": [
           {
            "colorbar": {
             "outlinewidth": 0,
             "ticks": ""
            },
            "type": "choropleth"
           }
          ],
          "contour": [
           {
            "colorbar": {
             "outlinewidth": 0,
             "ticks": ""
            },
            "colorscale": [
             [
              0,
              "#0d0887"
             ],
             [
              0.1111111111111111,
              "#46039f"
             ],
             [
              0.2222222222222222,
              "#7201a8"
             ],
             [
              0.3333333333333333,
              "#9c179e"
             ],
             [
              0.4444444444444444,
              "#bd3786"
             ],
             [
              0.5555555555555556,
              "#d8576b"
             ],
             [
              0.6666666666666666,
              "#ed7953"
             ],
             [
              0.7777777777777778,
              "#fb9f3a"
             ],
             [
              0.8888888888888888,
              "#fdca26"
             ],
             [
              1,
              "#f0f921"
             ]
            ],
            "type": "contour"
           }
          ],
          "contourcarpet": [
           {
            "colorbar": {
             "outlinewidth": 0,
             "ticks": ""
            },
            "type": "contourcarpet"
           }
          ],
          "heatmap": [
           {
            "colorbar": {
             "outlinewidth": 0,
             "ticks": ""
            },
            "colorscale": [
             [
              0,
              "#0d0887"
             ],
             [
              0.1111111111111111,
              "#46039f"
             ],
             [
              0.2222222222222222,
              "#7201a8"
             ],
             [
              0.3333333333333333,
              "#9c179e"
             ],
             [
              0.4444444444444444,
              "#bd3786"
             ],
             [
              0.5555555555555556,
              "#d8576b"
             ],
             [
              0.6666666666666666,
              "#ed7953"
             ],
             [
              0.7777777777777778,
              "#fb9f3a"
             ],
             [
              0.8888888888888888,
              "#fdca26"
             ],
             [
              1,
              "#f0f921"
             ]
            ],
            "type": "heatmap"
           }
          ],
          "heatmapgl": [
           {
            "colorbar": {
             "outlinewidth": 0,
             "ticks": ""
            },
            "colorscale": [
             [
              0,
              "#0d0887"
             ],
             [
              0.1111111111111111,
              "#46039f"
             ],
             [
              0.2222222222222222,
              "#7201a8"
             ],
             [
              0.3333333333333333,
              "#9c179e"
             ],
             [
              0.4444444444444444,
              "#bd3786"
             ],
             [
              0.5555555555555556,
              "#d8576b"
             ],
             [
              0.6666666666666666,
              "#ed7953"
             ],
             [
              0.7777777777777778,
              "#fb9f3a"
             ],
             [
              0.8888888888888888,
              "#fdca26"
             ],
             [
              1,
              "#f0f921"
             ]
            ],
            "type": "heatmapgl"
           }
          ],
          "histogram": [
           {
            "marker": {
             "pattern": {
              "fillmode": "overlay",
              "size": 10,
              "solidity": 0.2
             }
            },
            "type": "histogram"
           }
          ],
          "histogram2d": [
           {
            "colorbar": {
             "outlinewidth": 0,
             "ticks": ""
            },
            "colorscale": [
             [
              0,
              "#0d0887"
             ],
             [
              0.1111111111111111,
              "#46039f"
             ],
             [
              0.2222222222222222,
              "#7201a8"
             ],
             [
              0.3333333333333333,
              "#9c179e"
             ],
             [
              0.4444444444444444,
              "#bd3786"
             ],
             [
              0.5555555555555556,
              "#d8576b"
             ],
             [
              0.6666666666666666,
              "#ed7953"
             ],
             [
              0.7777777777777778,
              "#fb9f3a"
             ],
             [
              0.8888888888888888,
              "#fdca26"
             ],
             [
              1,
              "#f0f921"
             ]
            ],
            "type": "histogram2d"
           }
          ],
          "histogram2dcontour": [
           {
            "colorbar": {
             "outlinewidth": 0,
             "ticks": ""
            },
            "colorscale": [
             [
              0,
              "#0d0887"
             ],
             [
              0.1111111111111111,
              "#46039f"
             ],
             [
              0.2222222222222222,
              "#7201a8"
             ],
             [
              0.3333333333333333,
              "#9c179e"
             ],
             [
              0.4444444444444444,
              "#bd3786"
             ],
             [
              0.5555555555555556,
              "#d8576b"
             ],
             [
              0.6666666666666666,
              "#ed7953"
             ],
             [
              0.7777777777777778,
              "#fb9f3a"
             ],
             [
              0.8888888888888888,
              "#fdca26"
             ],
             [
              1,
              "#f0f921"
             ]
            ],
            "type": "histogram2dcontour"
           }
          ],
          "mesh3d": [
           {
            "colorbar": {
             "outlinewidth": 0,
             "ticks": ""
            },
            "type": "mesh3d"
           }
          ],
          "parcoords": [
           {
            "line": {
             "colorbar": {
              "outlinewidth": 0,
              "ticks": ""
             }
            },
            "type": "parcoords"
           }
          ],
          "pie": [
           {
            "automargin": true,
            "type": "pie"
           }
          ],
          "scatter": [
           {
            "marker": {
             "colorbar": {
              "outlinewidth": 0,
              "ticks": ""
             }
            },
            "type": "scatter"
           }
          ],
          "scatter3d": [
           {
            "line": {
             "colorbar": {
              "outlinewidth": 0,
              "ticks": ""
             }
            },
            "marker": {
             "colorbar": {
              "outlinewidth": 0,
              "ticks": ""
             }
            },
            "type": "scatter3d"
           }
          ],
          "scattercarpet": [
           {
            "marker": {
             "colorbar": {
              "outlinewidth": 0,
              "ticks": ""
             }
            },
            "type": "scattercarpet"
           }
          ],
          "scattergeo": [
           {
            "marker": {
             "colorbar": {
              "outlinewidth": 0,
              "ticks": ""
             }
            },
            "type": "scattergeo"
           }
          ],
          "scattergl": [
           {
            "marker": {
             "colorbar": {
              "outlinewidth": 0,
              "ticks": ""
             }
            },
            "type": "scattergl"
           }
          ],
          "scattermapbox": [
           {
            "marker": {
             "colorbar": {
              "outlinewidth": 0,
              "ticks": ""
             }
            },
            "type": "scattermapbox"
           }
          ],
          "scatterpolar": [
           {
            "marker": {
             "colorbar": {
              "outlinewidth": 0,
              "ticks": ""
             }
            },
            "type": "scatterpolar"
           }
          ],
          "scatterpolargl": [
           {
            "marker": {
             "colorbar": {
              "outlinewidth": 0,
              "ticks": ""
             }
            },
            "type": "scatterpolargl"
           }
          ],
          "scatterternary": [
           {
            "marker": {
             "colorbar": {
              "outlinewidth": 0,
              "ticks": ""
             }
            },
            "type": "scatterternary"
           }
          ],
          "surface": [
           {
            "colorbar": {
             "outlinewidth": 0,
             "ticks": ""
            },
            "colorscale": [
             [
              0,
              "#0d0887"
             ],
             [
              0.1111111111111111,
              "#46039f"
             ],
             [
              0.2222222222222222,
              "#7201a8"
             ],
             [
              0.3333333333333333,
              "#9c179e"
             ],
             [
              0.4444444444444444,
              "#bd3786"
             ],
             [
              0.5555555555555556,
              "#d8576b"
             ],
             [
              0.6666666666666666,
              "#ed7953"
             ],
             [
              0.7777777777777778,
              "#fb9f3a"
             ],
             [
              0.8888888888888888,
              "#fdca26"
             ],
             [
              1,
              "#f0f921"
             ]
            ],
            "type": "surface"
           }
          ],
          "table": [
           {
            "cells": {
             "fill": {
              "color": "#EBF0F8"
             },
             "line": {
              "color": "white"
             }
            },
            "header": {
             "fill": {
              "color": "#C8D4E3"
             },
             "line": {
              "color": "white"
             }
            },
            "type": "table"
           }
          ]
         },
         "layout": {
          "annotationdefaults": {
           "arrowcolor": "#2a3f5f",
           "arrowhead": 0,
           "arrowwidth": 1
          },
          "autotypenumbers": "strict",
          "coloraxis": {
           "colorbar": {
            "outlinewidth": 0,
            "ticks": ""
           }
          },
          "colorscale": {
           "diverging": [
            [
             0,
             "#8e0152"
            ],
            [
             0.1,
             "#c51b7d"
            ],
            [
             0.2,
             "#de77ae"
            ],
            [
             0.3,
             "#f1b6da"
            ],
            [
             0.4,
             "#fde0ef"
            ],
            [
             0.5,
             "#f7f7f7"
            ],
            [
             0.6,
             "#e6f5d0"
            ],
            [
             0.7,
             "#b8e186"
            ],
            [
             0.8,
             "#7fbc41"
            ],
            [
             0.9,
             "#4d9221"
            ],
            [
             1,
             "#276419"
            ]
           ],
           "sequential": [
            [
             0,
             "#0d0887"
            ],
            [
             0.1111111111111111,
             "#46039f"
            ],
            [
             0.2222222222222222,
             "#7201a8"
            ],
            [
             0.3333333333333333,
             "#9c179e"
            ],
            [
             0.4444444444444444,
             "#bd3786"
            ],
            [
             0.5555555555555556,
             "#d8576b"
            ],
            [
             0.6666666666666666,
             "#ed7953"
            ],
            [
             0.7777777777777778,
             "#fb9f3a"
            ],
            [
             0.8888888888888888,
             "#fdca26"
            ],
            [
             1,
             "#f0f921"
            ]
           ],
           "sequentialminus": [
            [
             0,
             "#0d0887"
            ],
            [
             0.1111111111111111,
             "#46039f"
            ],
            [
             0.2222222222222222,
             "#7201a8"
            ],
            [
             0.3333333333333333,
             "#9c179e"
            ],
            [
             0.4444444444444444,
             "#bd3786"
            ],
            [
             0.5555555555555556,
             "#d8576b"
            ],
            [
             0.6666666666666666,
             "#ed7953"
            ],
            [
             0.7777777777777778,
             "#fb9f3a"
            ],
            [
             0.8888888888888888,
             "#fdca26"
            ],
            [
             1,
             "#f0f921"
            ]
           ]
          },
          "colorway": [
           "#636efa",
           "#EF553B",
           "#00cc96",
           "#ab63fa",
           "#FFA15A",
           "#19d3f3",
           "#FF6692",
           "#B6E880",
           "#FF97FF",
           "#FECB52"
          ],
          "font": {
           "color": "#2a3f5f"
          },
          "geo": {
           "bgcolor": "white",
           "lakecolor": "white",
           "landcolor": "#E5ECF6",
           "showlakes": true,
           "showland": true,
           "subunitcolor": "white"
          },
          "hoverlabel": {
           "align": "left"
          },
          "hovermode": "closest",
          "mapbox": {
           "style": "light"
          },
          "paper_bgcolor": "white",
          "plot_bgcolor": "#E5ECF6",
          "polar": {
           "angularaxis": {
            "gridcolor": "white",
            "linecolor": "white",
            "ticks": ""
           },
           "bgcolor": "#E5ECF6",
           "radialaxis": {
            "gridcolor": "white",
            "linecolor": "white",
            "ticks": ""
           }
          },
          "scene": {
           "xaxis": {
            "backgroundcolor": "#E5ECF6",
            "gridcolor": "white",
            "gridwidth": 2,
            "linecolor": "white",
            "showbackground": true,
            "ticks": "",
            "zerolinecolor": "white"
           },
           "yaxis": {
            "backgroundcolor": "#E5ECF6",
            "gridcolor": "white",
            "gridwidth": 2,
            "linecolor": "white",
            "showbackground": true,
            "ticks": "",
            "zerolinecolor": "white"
           },
           "zaxis": {
            "backgroundcolor": "#E5ECF6",
            "gridcolor": "white",
            "gridwidth": 2,
            "linecolor": "white",
            "showbackground": true,
            "ticks": "",
            "zerolinecolor": "white"
           }
          },
          "shapedefaults": {
           "line": {
            "color": "#2a3f5f"
           }
          },
          "ternary": {
           "aaxis": {
            "gridcolor": "white",
            "linecolor": "white",
            "ticks": ""
           },
           "baxis": {
            "gridcolor": "white",
            "linecolor": "white",
            "ticks": ""
           },
           "bgcolor": "#E5ECF6",
           "caxis": {
            "gridcolor": "white",
            "linecolor": "white",
            "ticks": ""
           }
          },
          "title": {
           "x": 0.05
          },
          "xaxis": {
           "automargin": true,
           "gridcolor": "white",
           "linecolor": "white",
           "ticks": "",
           "title": {
            "standoff": 15
           },
           "zerolinecolor": "white",
           "zerolinewidth": 2
          },
          "yaxis": {
           "automargin": true,
           "gridcolor": "white",
           "linecolor": "white",
           "ticks": "",
           "title": {
            "standoff": 15
           },
           "zerolinecolor": "white",
           "zerolinewidth": 2
          }
         }
        },
        "title": {
         "text": "Réparatition du nombre de films par nationalité"
        }
       }
      }
     },
     "metadata": {},
     "output_type": "display_data"
    }
   ],
   "source": [
    "import plotly.express as px\n",
    "\n",
    "\n",
    "gg=df.pays.value_counts()\n",
    "gg=gg.reset_index()\n",
    "gg=gg.rename({\"index\":\"pays\",\"pays\":\"nb\"},axis=1)\n",
    "gg.loc[gg['nb'] <100, \"pays\"] = \"Other\"\n",
    "hh=gg.groupby(['pays']).sum()\n",
    "hh=hh.reset_index()\n",
    "\n",
    "\n",
    "fig = px.pie(df, values=hh.nb, names=hh.pays,title='Réparatition du nombre de films par nationalité')\n",
    "fig.show()\n"
   ]
  },
  {
   "attachments": {
    "image.png": {
     "image/png": "[encoded data removed]"
    }
   },
   "cell_type": "markdown",
   "id": "2bd4808c",
   "metadata": {},
   "source": [
    "![image.png](attachment:image.png)"
   ]
  },
  {
   "cell_type": "markdown",
   "id": "309a04de",
   "metadata": {},
   "source": [
    "**relation note presse et note spectateurs**"
   ]
  },
  {
   "cell_type": "code",
   "execution_count": 31,
   "id": "1e96c5fb",
   "metadata": {},
   "outputs": [
    {
     "data": {
      "image/png": "[encoded data removed]",
      "text/plain": [
       "<Figure size 360x360 with 1 Axes>"
      ]
     },
     "metadata": {
      "needs_background": "light"
     },
     "output_type": "display_data"
    }
   ],
   "source": [
    "sns.lmplot(x='note_presse',y='note_spectateurs',data=df,ci=100,line_kws={'color': 'red'},);"
   ]
  }
 ],
 "metadata": {
  "kernelspec": {
   "display_name": "Python 3 (ipykernel)",
   "language": "python",
   "name": "python3"
  },
  "language_info": {
   "codemirror_mode": {
    "name": "ipython",
    "version": 3
   },
   "file_extension": ".py",
   "mimetype": "text/x-python",
   "name": "python",
   "nbconvert_exporter": "python",
   "pygments_lexer": "ipython3",
   "version": "3.9.12"
  }
 },
 "nbformat": 4,
 "nbformat_minor": 5
}
