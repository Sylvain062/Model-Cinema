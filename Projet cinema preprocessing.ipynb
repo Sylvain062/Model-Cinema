{
 "cells": [
  {
   "cell_type": "code",
   "execution_count": 2,
   "id": "99c7ab11",
   "metadata": {},
   "outputs": [
    {
     "name": "stdout",
     "output_type": "stream",
     "text": [
      "Shape_Etape#2  (12414, 19)\n",
      "Shape_Etape#2  (12414, 30)\n",
      "Shape_Etape#3  (12412, 39)\n"
     ]
    }
   ],
   "source": [
    "import numpy as np\n",
    "import pandas as pd\n",
    "import matplotlib.pyplot as plt\n",
    "%matplotlib inline\n",
    "import seaborn as sns\n",
    "import os\n",
    "#test\n",
    "#************************************************************************\n",
    "os.chdir('D:/Sylvain/github/Projet-Cinema')\n",
    "df=pd.read_csv('allocine_V1.csv', sep=\",\", index_col='ID')\n",
    "print('Shape_Etape#2 ' ,df.shape)\n",
    "# on remplace les virgules par des points pour les notes\n",
    "df['note_presse']=df['note_presse'].replace(',', '.', regex=True)\n",
    "df['note_spectateurs']=df['note_spectateurs'].replace(',', '.', regex=True)\n",
    "df=df.astype({\"note_spectateurs\":\"float\",\"note_presse\":\"float\"})\n",
    "#on sépare les genres en plusieurs colonnes (1 genre par colonne)\n",
    "df[['genre_1','genre_2','genre_3','genre_4','genre_5','genre_6','genre_7']]=df['genre'].str.split(',', expand=True)\n",
    "df=df.rename({\"genre\":\"genres\"},axis=1)\n",
    "df[['acteur_1','acteur_2','acteur_3','acteur_4']]=df['acteurs'].str.split(',', expand=True) # idem pour acteurs\n",
    "print('Shape_Etape#2 ' ,df.shape)\n",
    "# idem pour realisateurs mais on ne prend que les 3 premiers\n",
    "a=[]\n",
    "b=[]\n",
    "c=[]\n",
    "df['realisateur'].fillna('XXXX', inplace=True) # ca sert à éviter de faire planter le split si valeur Nan\n",
    "for i in range(len(df)):\n",
    "    if df['realisateur'].iloc[i].count(',')==0:\n",
    "        a.append(df['realisateur'].iloc[i].split(',')[0])\n",
    "        b.append(np.NaN)\n",
    "        c.append(np.NaN)\n",
    "    elif df['realisateur'].iloc[i].count(',')==1:\n",
    "        a.append(df['realisateur'].iloc[i].split(',')[0])\n",
    "        b.append(df['realisateur'].iloc[i].split(',')[1])\n",
    "        c.append(np.NaN)\n",
    "    elif df['realisateur'].iloc[i].count(',')>=2:\n",
    "        a.append(df['realisateur'].iloc[i].split(',')[0])\n",
    "        b.append(df['realisateur'].iloc[i].split(',')[1])\n",
    "        c.append(df['realisateur'].iloc[i].split(',')[2])\n",
    "df.insert(3,'real_1',a)\n",
    "df.insert(4,'real_2',b)\n",
    "df.insert(5,'real_3',c)\n",
    "df['realisateur']=df['realisateur'].replace('XXXX',np.NaN,regex=True) # et je retire les XXXX\n",
    "df['real_1']=df['real_1'].replace('XXXX',np.NaN,regex=True) # et je retire les XXXX\n",
    "#********************** pour les scenaristes et on prend les 3 premiers\n",
    "a=[]\n",
    "b=[]\n",
    "c=[]\n",
    "df['scenariste'].fillna('XXXX', inplace=True) # ca sert à éviter de faire planter le split si valeur Nan\n",
    "for i in range(len(df)):\n",
    "    if df['scenariste'].iloc[i].count(',')==0:\n",
    "        a.append(df['scenariste'].iloc[i].split(',')[0])\n",
    "        b.append(np.NaN)\n",
    "        c.append(np.NaN)\n",
    "    elif df['scenariste'].iloc[i].count(',')==1:\n",
    "        a.append(df['scenariste'].iloc[i].split(',')[0])\n",
    "        b.append(df['scenariste'].iloc[i].split(',')[1])\n",
    "        c.append(np.NaN)\n",
    "    elif df['scenariste'].iloc[i].count(',')>=2:\n",
    "        a.append(df['scenariste'].iloc[i].split(',')[0])\n",
    "        b.append(df['scenariste'].iloc[i].split(',')[1])\n",
    "        c.append(df['scenariste'].iloc[i].split(',')[2])\n",
    "df.insert(7,'scen_1',a)\n",
    "df.insert(8,'scen_2',b)\n",
    "df.insert(9,'scen_3',c)\n",
    "df['scenariste']=df['scenariste'].replace('XXXX',np.NaN,regex=True) # et je retire les XXXX\n",
    "df['scen_1']=df['scen_1'].replace('XXXX',np.NaN,regex=True) # et je retire les XXXX\n",
    "#********************** pour les distributeurs et on prend les 3 premiers\n",
    "a=[]\n",
    "b=[]\n",
    "c=[]\n",
    "df['distributeur'].fillna('XXXX', inplace=True) # ca sert à éviter de faire planter le split si valeur Nan\n",
    "for i in range(len(df)):\n",
    "    if df['distributeur'].iloc[i].count('/')==0:\n",
    "        a.append(df['distributeur'].iloc[i].split('/')[0])\n",
    "        b.append(np.NaN)\n",
    "        c.append(np.NaN)\n",
    "    elif df['distributeur'].iloc[i].count('/')==1:\n",
    "        a.append(df['distributeur'].iloc[i].split('/')[0])\n",
    "        b.append(df['distributeur'].iloc[i].split('/')[1])\n",
    "        c.append(np.NaN)\n",
    "    elif df['distributeur'].iloc[i].count('/')>=2:\n",
    "        a.append(df['distributeur'].iloc[i].split('/')[0])\n",
    "        b.append(df['distributeur'].iloc[i].split('/')[1])\n",
    "        c.append(df['distributeur'].iloc[i].split('/')[2])\n",
    "df.insert(7,'distrib_1',a)\n",
    "df.insert(8,'distrib_2',b)\n",
    "df.insert(9,'distrib_3',c)\n",
    "df['distributeur']=df['distributeur'].replace('XXXX',np.NaN,regex=True) # et je retire les XXXX\n",
    "df['distrib_1']=df['distrib_1'].replace('XXXX',np.NaN,regex=True) # et je retire les XXXX\n",
    "# # ******************************************************************\n",
    "# #on enleve les films 257571,291995, et toutes les date commencant par publiée le\n",
    "df.drop(257571,inplace=True)\n",
    "df.drop(291995,inplace=True)\n",
    "# df.drop(621,inplace=True)\n",
    "# df.drop(11661,inplace=True)\n",
    "df['date']=df['date'].replace('Publiée le ', '', regex=True)\n",
    "print('Shape_Etape#3 ' ,df.shape)\n",
    "# #******************************************************************\n",
    "# #******** extraction des mois (conversion str en num de mois ********\n",
    "# #*********************************************************************\n",
    "df['date'].fillna('XX XX XXXX', inplace=True) # ca sert à éviter de faire planter le split si valeur Nan\n",
    "df[['jour_split','mois_split','annee_split']]=df['date'].str.split(' ', expand=True)\n",
    "# on remplace les mois en str par leurs numéros\n",
    "df['mois_split'].replace({'janvier' : '1','février' : '2','mars' : '3','avril' : '4','mai' : '5','juin' : '6',\n",
    "                               'juillet' : '7','août' : '8','septembre' : '9','octobre' : '10',\n",
    "                               'novembre' : '11','décembre' : '12', },inplace = True)\n",
    "df['date']=df['date'].replace('XX XX XXXX',np.NaN,regex=True) # et je retire les XXXX\n",
    "df['jour_split']=df['jour_split'].replace('XX',np.NaN,regex=True) # et je retire les XXXX\n",
    "df['mois_split']=df['mois_split'].replace('XX',np.NaN,regex=True) # et je retire les XXXX\n",
    "df['annee_split']=df['annee_split'].replace('XXXX',np.NaN,regex=True) # et je retire les XXXX\n",
    "#************ reagencement des colonnes ************************************\n",
    "df = df.reindex(['titre','titre_original','acteurs','acteur_1', 'acteur_2', 'acteur_3', 'acteur_4', 'genres', 'genre_1','genre_2', 'genre_3', 'genre_4', 'genre_5','realisateur', 'real_1', 'real_2', 'real_3',\n",
    "       'scenariste', 'scen_1', 'scen_2', 'scen_3', 'duree',\n",
    "        'note_presse', 'note_spectateurs', 'pays',\n",
    "       'distributeur','distrib_1','distrib_2','distrib_3', 'budget',  'premiere_semaine_france',\n",
    "       'cumul_france', 'premiere_semaine_US', 'cumul_US',   'genre_6', 'genre_7',\n",
    "        'date', 'annee','jour_split',\n",
    "       'mois_split', 'annee_split','year'], axis=1)\n",
    "\n",
    "df.to_csv('D:/Sylvain/github/Projet-Cinema/allocineV2-SB.csv')"
   ]
  },
  {
   "cell_type": "markdown",
   "id": "94226e78",
   "metadata": {},
   "source": [
    "**Répartition des types de variables du DF**                   "
   ]
  },
  {
   "cell_type": "code",
   "execution_count": 6,
   "id": "e38455fd",
   "metadata": {},
   "outputs": [
    {
     "data": {
      "text/plain": [
       "object     37\n",
       "float64     4\n",
       "int64       1\n",
       "dtype: int64"
      ]
     },
     "execution_count": 6,
     "metadata": {},
     "output_type": "execute_result"
    },
    {
     "data": {
      "image/png": "[encoded data removed]",
      "text/plain": [
       "<Figure size 432x288 with 1 Axes>"
      ]
     },
     "metadata": {},
     "output_type": "display_data"
    }
   ],
   "source": [
    "df.dtypes.value_counts().plot.pie()\n",
    "df.dtypes.value_counts()    "
   ]
  },
  {
   "cell_type": "markdown",
   "id": "41f4bc90",
   "metadata": {},
   "source": [
    "**Valeurs manquantes du DF**"
   ]
  },
  {
   "cell_type": "code",
   "execution_count": 7,
   "id": "c4c6f5e6",
   "metadata": {},
   "outputs": [
    {
     "data": {
      "image/png": "[encoded data removed]",
      "text/plain": [
       "<Figure size 1440x720 with 1 Axes>"
      ]
     },
     "metadata": {
      "needs_background": "light"
     },
     "output_type": "display_data"
    }
   ],
   "source": [
    "plt.figure(figsize=(20,10))\n",
    "sns.heatmap(df.isna(),cbar=False); "
   ]
  },
  {
   "cell_type": "markdown",
   "id": "5ea68efd",
   "metadata": {},
   "source": [
    "**repartition par nationalité**"
   ]
  },
  {
   "cell_type": "code",
   "execution_count": 14,
   "id": "2cb10992",
   "metadata": {},
   "outputs": [
    {
     "data": {
      "application/vnd.plotly.v1+json": {
       "config": {
        "plotlyServerURL": "https://plot.ly"
       },
       "data": [
        {
         "domain": {
          "x": [
           0,
           1
          ],
          "y": [
           0,
           1
          ]
         },
         "hovertemplate": "label=%{label}<br>value=%{value}<extra></extra>",
         "labels": [
          "Allemagne",
          "Belgique",
          "Canada",
          "Espagne",
          "France",
          "Grande-Bretagne",
          "Inde",
          "Italie",
          "Japon",
          "Other",
          "U.S.A."
         ],
         "legendgroup": "",
         "name": "",
         "showlegend": true,
         "type": "pie",
         "values": [
          256,
          159,
          154,
          218,
          4823,
          495,
          206,
          235,
          206,
          1832,
          3804
         ]
        }
       ],
       "layout": {
        "legend": {
         "tracegroupgap": 0
        },
        "template": {
         "data": {
          "bar": [
           {
            "error_x": {
             "color": "#2a3f5f"
            },
            "error_y": {
             "color": "#2a3f5f"
            },
            "marker": {
             "line": {
              "color": "#E5ECF6",
              "width": 0.5
             },
             "pattern": {
              "fillmode": "overlay",
              "size": 10,
              "solidity": 0.2
             }
            },
            "type": "bar"
           }
          ],
          "barpolar": [
           {
            "marker": {
             "line": {
              "color": "#E5ECF6",
              "width": 0.5
             },
             "pattern": {
              "fillmode": "overlay",
              "size": 10,
              "solidity": 0.2
             }
            },
            "type": "barpolar"
           }
          ],
          "carpet": [
           {
            "aaxis": {
             "endlinecolor": "#2a3f5f",
             "gridcolor": "white",
             "linecolor": "white",
             "minorgridcolor": "white",
             "startlinecolor": "#2a3f5f"
            },
            "baxis": {
             "endlinecolor": "#2a3f5f",
             "gridcolor": "white",
             "linecolor": "white",
             "minorgridcolor": "white",
             "startlinecolor": "#2a3f5f"
            },
            "type": "carpet"
           }
          ],
          "choropleth": [
           {
            "colorbar": {
             "outlinewidth": 0,
             "ticks": ""
            },
            "type": "choropleth"
           }
          ],
          "contour": [
           {
            "colorbar": {
             "outlinewidth": 0,
             "ticks": ""
            },
            "colorscale": [
             [
              0,
              "#0d0887"
             ],
             [
              0.1111111111111111,
              "#46039f"
             ],
             [
              0.2222222222222222,
              "#7201a8"
             ],
             [
              0.3333333333333333,
              "#9c179e"
             ],
             [
              0.4444444444444444,
              "#bd3786"
             ],
             [
              0.5555555555555556,
              "#d8576b"
             ],
             [
              0.6666666666666666,
              "#ed7953"
             ],
             [
              0.7777777777777778,
              "#fb9f3a"
             ],
             [
              0.8888888888888888,
              "#fdca26"
             ],
             [
              1,
              "#f0f921"
             ]
            ],
            "type": "contour"
           }
          ],
          "contourcarpet": [
           {
            "colorbar": {
             "outlinewidth": 0,
             "ticks": ""
            },
            "type": "contourcarpet"
           }
          ],
          "heatmap": [
           {
            "colorbar": {
             "outlinewidth": 0,
             "ticks": ""
            },
            "colorscale": [
             [
              0,
              "#0d0887"
             ],
             [
              0.1111111111111111,
              "#46039f"
             ],
             [
              0.2222222222222222,
              "#7201a8"
             ],
             [
              0.3333333333333333,
              "#9c179e"
             ],
             [
              0.4444444444444444,
              "#bd3786"
             ],
             [
              0.5555555555555556,
              "#d8576b"
             ],
             [
              0.6666666666666666,
              "#ed7953"
             ],
             [
              0.7777777777777778,
              "#fb9f3a"
             ],
             [
              0.8888888888888888,
              "#fdca26"
             ],
             [
              1,
              "#f0f921"
             ]
            ],
            "type": "heatmap"
           }
          ],
          "heatmapgl": [
           {
            "colorbar": {
             "outlinewidth": 0,
             "ticks": ""
            },
            "colorscale": [
             [
              0,
              "#0d0887"
             ],
             [
              0.1111111111111111,
              "#46039f"
             ],
             [
              0.2222222222222222,
              "#7201a8"
             ],
             [
              0.3333333333333333,
              "#9c179e"
             ],
             [
              0.4444444444444444,
              "#bd3786"
             ],
             [
              0.5555555555555556,
              "#d8576b"
             ],
             [
              0.6666666666666666,
              "#ed7953"
             ],
             [
              0.7777777777777778,
              "#fb9f3a"
             ],
             [
              0.8888888888888888,
              "#fdca26"
             ],
             [
              1,
              "#f0f921"
             ]
            ],
            "type": "heatmapgl"
           }
          ],
          "histogram": [
           {
            "marker": {
             "pattern": {
              "fillmode": "overlay",
              "size": 10,
              "solidity": 0.2
             }
            },
            "type": "histogram"
           }
          ],
          "histogram2d": [
           {
            "colorbar": {
             "outlinewidth": 0,
             "ticks": ""
            },
            "colorscale": [
             [
              0,
              "#0d0887"
             ],
             [
              0.1111111111111111,
              "#46039f"
             ],
             [
              0.2222222222222222,
              "#7201a8"
             ],
             [
              0.3333333333333333,
              "#9c179e"
             ],
             [
              0.4444444444444444,
              "#bd3786"
             ],
             [
              0.5555555555555556,
              "#d8576b"
             ],
             [
              0.6666666666666666,
              "#ed7953"
             ],
             [
              0.7777777777777778,
              "#fb9f3a"
             ],
             [
              0.8888888888888888,
              "#fdca26"
             ],
             [
              1,
              "#f0f921"
             ]
            ],
            "type": "histogram2d"
           }
          ],
          "histogram2dcontour": [
           {
            "colorbar": {
             "outlinewidth": 0,
             "ticks": ""
            },
            "colorscale": [
             [
              0,
              "#0d0887"
             ],
             [
              0.1111111111111111,
              "#46039f"
             ],
             [
              0.2222222222222222,
              "#7201a8"
             ],
             [
              0.3333333333333333,
              "#9c179e"
             ],
             [
              0.4444444444444444,
              "#bd3786"
             ],
             [
              0.5555555555555556,
              "#d8576b"
             ],
             [
              0.6666666666666666,
              "#ed7953"
             ],
             [
              0.7777777777777778,
              "#fb9f3a"
             ],
             [
              0.8888888888888888,
              "#fdca26"
             ],
             [
              1,
              "#f0f921"
             ]
            ],
            "type": "histogram2dcontour"
           }
          ],
          "mesh3d": [
           {
            "colorbar": {
             "outlinewidth": 0,
             "ticks": ""
            },
            "type": "mesh3d"
           }
          ],
          "parcoords": [
           {
            "line": {
             "colorbar": {
              "outlinewidth": 0,
              "ticks": ""
             }
            },
            "type": "parcoords"
           }
          ],
          "pie": [
           {
            "automargin": true,
            "type": "pie"
           }
          ],
          "scatter": [
           {
            "marker": {
             "colorbar": {
              "outlinewidth": 0,
              "ticks": ""
             }
            },
            "type": "scatter"
           }
          ],
          "scatter3d": [
           {
            "line": {
             "colorbar": {
              "outlinewidth": 0,
              "ticks": ""
             }
            },
            "marker": {
             "colorbar": {
              "outlinewidth": 0,
              "ticks": ""
             }
            },
            "type": "scatter3d"
           }
          ],
          "scattercarpet": [
           {
            "marker": {
             "colorbar": {
              "outlinewidth": 0,
              "ticks": ""
             }
            },
            "type": "scattercarpet"
           }
          ],
          "scattergeo": [
           {
            "marker": {
             "colorbar": {
              "outlinewidth": 0,
              "ticks": ""
             }
            },
            "type": "scattergeo"
           }
          ],
          "scattergl": [
           {
            "marker": {
             "colorbar": {
              "outlinewidth": 0,
              "ticks": ""
             }
            },
            "type": "scattergl"
           }
          ],
          "scattermapbox": [
           {
            "marker": {
             "colorbar": {
              "outlinewidth": 0,
              "ticks": ""
             }
            },
            "type": "scattermapbox"
           }
          ],
          "scatterpolar": [
           {
            "marker": {
             "colorbar": {
              "outlinewidth": 0,
              "ticks": ""
             }
            },
            "type": "scatterpolar"
           }
          ],
          "scatterpolargl": [
           {
            "marker": {
             "colorbar": {
              "outlinewidth": 0,
              "ticks": ""
             }
            },
            "type": "scatterpolargl"
           }
          ],
          "scatterternary": [
           {
            "marker": {
             "colorbar": {
              "outlinewidth": 0,
              "ticks": ""
             }
            },
            "type": "scatterternary"
           }
          ],
          "surface": [
           {
            "colorbar": {
             "outlinewidth": 0,
             "ticks": ""
            },
            "colorscale": [
             [
              0,
              "#0d0887"
             ],
             [
              0.1111111111111111,
              "#46039f"
             ],
             [
              0.2222222222222222,
              "#7201a8"
             ],
             [
              0.3333333333333333,
              "#9c179e"
             ],
             [
              0.4444444444444444,
              "#bd3786"
             ],
             [
              0.5555555555555556,
              "#d8576b"
             ],
             [
              0.6666666666666666,
              "#ed7953"
             ],
             [
              0.7777777777777778,
              "#fb9f3a"
             ],
             [
              0.8888888888888888,
              "#fdca26"
             ],
             [
              1,
              "#f0f921"
             ]
            ],
            "type": "surface"
           }
          ],
          "table": [
           {
            "cells": {
             "fill": {
              "color": "#EBF0F8"
             },
             "line": {
              "color": "white"
             }
            },
            "header": {
             "fill": {
              "color": "#C8D4E3"
             },
             "line": {
              "color": "white"
             }
            },
            "type": "table"
           }
          ]
         },
         "layout": {
          "annotationdefaults": {
           "arrowcolor": "#2a3f5f",
           "arrowhead": 0,
           "arrowwidth": 1
          },
          "autotypenumbers": "strict",
          "coloraxis": {
           "colorbar": {
            "outlinewidth": 0,
            "ticks": ""
           }
          },
          "colorscale": {
           "diverging": [
            [
             0,
             "#8e0152"
            ],
            [
             0.1,
             "#c51b7d"
            ],
            [
             0.2,
             "#de77ae"
            ],
            [
             0.3,
             "#f1b6da"
            ],
            [
             0.4,
             "#fde0ef"
            ],
            [
             0.5,
             "#f7f7f7"
            ],
            [
             0.6,
             "#e6f5d0"
            ],
            [
             0.7,
             "#b8e186"
            ],
            [
             0.8,
             "#7fbc41"
            ],
            [
             0.9,
             "#4d9221"
            ],
            [
             1,
             "#276419"
            ]
           ],
           "sequential": [
            [
             0,
             "#0d0887"
            ],
            [
             0.1111111111111111,
             "#46039f"
            ],
            [
             0.2222222222222222,
             "#7201a8"
            ],
            [
             0.3333333333333333,
             "#9c179e"
            ],
            [
             0.4444444444444444,
             "#bd3786"
            ],
            [
             0.5555555555555556,
             "#d8576b"
            ],
            [
             0.6666666666666666,
             "#ed7953"
            ],
            [
             0.7777777777777778,
             "#fb9f3a"
            ],
            [
             0.8888888888888888,
             "#fdca26"
            ],
            [
             1,
             "#f0f921"
            ]
           ],
           "sequentialminus": [
            [
             0,
             "#0d0887"
            ],
            [
             0.1111111111111111,
             "#46039f"
            ],
            [
             0.2222222222222222,
             "#7201a8"
            ],
            [
             0.3333333333333333,
             "#9c179e"
            ],
            [
             0.4444444444444444,
             "#bd3786"
            ],
            [
             0.5555555555555556,
             "#d8576b"
            ],
            [
             0.6666666666666666,
             "#ed7953"
            ],
            [
             0.7777777777777778,
             "#fb9f3a"
            ],
            [
             0.8888888888888888,
             "#fdca26"
            ],
            [
             1,
             "#f0f921"
            ]
           ]
          },
          "colorway": [
           "#636efa",
           "#EF553B",
           "#00cc96",
           "#ab63fa",
           "#FFA15A",
           "#19d3f3",
           "#FF6692",
           "#B6E880",
           "#FF97FF",
           "#FECB52"
          ],
          "font": {
           "color": "#2a3f5f"
          },
          "geo": {
           "bgcolor": "white",
           "lakecolor": "white",
           "landcolor": "#E5ECF6",
           "showlakes": true,
           "showland": true,
           "subunitcolor": "white"
          },
          "hoverlabel": {
           "align": "left"
          },
          "hovermode": "closest",
          "mapbox": {
           "style": "light"
          },
          "paper_bgcolor": "white",
          "plot_bgcolor": "#E5ECF6",
          "polar": {
           "angularaxis": {
            "gridcolor": "white",
            "linecolor": "white",
            "ticks": ""
           },
           "bgcolor": "#E5ECF6",
           "radialaxis": {
            "gridcolor": "white",
            "linecolor": "white",
            "ticks": ""
           }
          },
          "scene": {
           "xaxis": {
            "backgroundcolor": "#E5ECF6",
            "gridcolor": "white",
            "gridwidth": 2,
            "linecolor": "white",
            "showbackground": true,
            "ticks": "",
            "zerolinecolor": "white"
           },
           "yaxis": {
            "backgroundcolor": "#E5ECF6",
            "gridcolor": "white",
            "gridwidth": 2,
            "linecolor": "white",
            "showbackground": true,
            "ticks": "",
            "zerolinecolor": "white"
           },
           "zaxis": {
            "backgroundcolor": "#E5ECF6",
            "gridcolor": "white",
            "gridwidth": 2,
            "linecolor": "white",
            "showbackground": true,
            "ticks": "",
            "zerolinecolor": "white"
           }
          },
          "shapedefaults": {
           "line": {
            "color": "#2a3f5f"
           }
          },
          "ternary": {
           "aaxis": {
            "gridcolor": "white",
            "linecolor": "white",
            "ticks": ""
           },
           "baxis": {
            "gridcolor": "white",
            "linecolor": "white",
            "ticks": ""
           },
           "bgcolor": "#E5ECF6",
           "caxis": {
            "gridcolor": "white",
            "linecolor": "white",
            "ticks": ""
           }
          },
          "title": {
           "x": 0.05
          },
          "xaxis": {
           "automargin": true,
           "gridcolor": "white",
           "linecolor": "white",
           "ticks": "",
           "title": {
            "standoff": 15
           },
           "zerolinecolor": "white",
           "zerolinewidth": 2
          },
          "yaxis": {
           "automargin": true,
           "gridcolor": "white",
           "linecolor": "white",
           "ticks": "",
           "title": {
            "standoff": 15
           },
           "zerolinecolor": "white",
           "zerolinewidth": 2
          }
         }
        },
        "title": {
         "text": "Réparatition du nombre de films par nationalité"
        }
       }
      }
     },
     "metadata": {},
     "output_type": "display_data"
    }
   ],
   "source": [
    "import plotly.express as px\n",
    "\n",
    "\n",
    "gg=df.pays.value_counts()\n",
    "gg=gg.reset_index()\n",
    "gg=gg.rename({\"index\":\"pays\",\"pays\":\"nb\"},axis=1)\n",
    "gg.loc[gg['nb'] <100, \"pays\"] = \"Other\"\n",
    "hh=gg.groupby(['pays']).sum()\n",
    "hh=hh.reset_index()\n",
    "\n",
    "\n",
    "fig = px.pie(df, values=hh.nb, names=hh.pays,title='Réparatition du nombre de films par nationalité')\n",
    "fig.show()\n"
   ]
  },
  {
   "attachments": {
    "image.png": {
     "image/png": "[encoded data removed]"
    }
   },
   "cell_type": "markdown",
   "id": "2bd4808c",
   "metadata": {},
   "source": [
    "![image.png](attachment:image.png)"
   ]
  },
  {
   "cell_type": "markdown",
   "id": "309a04de",
   "metadata": {},
   "source": [
    "**relation note presse et note spectateurs**"
   ]
  },
  {
   "cell_type": "code",
   "execution_count": 13,
   "id": "1e96c5fb",
   "metadata": {},
   "outputs": [
    {
     "data": {
      "image/png": "[encoded data removed]",
      "text/plain": [
       "<Figure size 360x360 with 1 Axes>"
      ]
     },
     "metadata": {
      "needs_background": "light"
     },
     "output_type": "display_data"
    }
   ],
   "source": [
    "sns.lmplot(x='note_presse',y='note_spectateurs',data=df,ci=100,line_kws={'color': 'red'},);"
   ]
  }
 ],
 "metadata": {
  "kernelspec": {
   "display_name": "Python 3 (ipykernel)",
   "language": "python",
   "name": "python3"
  },
  "language_info": {
   "codemirror_mode": {
    "name": "ipython",
    "version": 3
   },
   "file_extension": ".py",
   "mimetype": "text/x-python",
   "name": "python",
   "nbconvert_exporter": "python",
   "pygments_lexer": "ipython3",
   "version": "3.9.12"
  }
 },
 "nbformat": 4,
 "nbformat_minor": 5
}
