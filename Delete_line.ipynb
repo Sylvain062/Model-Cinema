{
 "cells": [
  {
   "cell_type": "code",
   "execution_count": 2,
   "metadata": {},
   "outputs": [
    {
     "name": "stdout",
     "output_type": "stream",
     "text": [
      "1108\n"
     ]
    }
   ],
   "source": [
    "import pandas as pd\n",
    "\n",
    "#  Importation du fichier csv V2.\n",
    "df = pd.read_csv('Data/allocineV2-SB.csv')\n",
    "\n",
    "# Nombre de lignes avant la suppression.\n",
    "len_avant = len(df)\n",
    "\n",
    "# Suppression des ligne qui ont une valeur manquante dans les colonnes choisies.\n",
    "df = df.dropna(subset=['premiere_semaine_france', 'cumul_france', 'date2'])\n",
    "\n",
    "# Nombre de lignes après la suppression.\n",
    "len_apres = len(df)\n",
    "\n",
    "# Affichage du nombre de lignes effacé. \n",
    "print(len_avant - len_apres)\n",
    "df.to_csv('Data/allocineV3-ND.csv', index=False)"
   ]
  }
 ],
 "metadata": {
  "kernelspec": {
   "display_name": "base",
   "language": "python",
   "name": "python3"
  },
  "language_info": {
   "codemirror_mode": {
    "name": "ipython",
    "version": 3
   },
   "file_extension": ".py",
   "mimetype": "text/x-python",
   "name": "python",
   "nbconvert_exporter": "python",
   "pygments_lexer": "ipython3",
   "version": "3.11.5"
  }
 },
 "nbformat": 4,
 "nbformat_minor": 2
}
