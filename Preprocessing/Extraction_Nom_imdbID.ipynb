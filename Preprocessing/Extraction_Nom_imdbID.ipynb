{
 "cells": [
  {
   "cell_type": "code",
   "execution_count": null,
   "metadata": {},
   "outputs": [],
   "source": [
    "import pandas as pd\n",
    "\n",
    "# Definition du chemin vers le fichier source\n",
    "path_in = 'Data/concat.csv'\n",
    "\n",
    "# Choix entre 'star' et 'director'\n",
    "pers_type = 'director' \n",
    "\n",
    "# Charger le DataFrame\n",
    "df = pd.read_csv(path_in)\n",
    "\n",
    "# Fonction pour supprimer les doublons tout en conservant l'ordre\n",
    "def supprimer_doublons(valeurs):\n",
    "    if pd.isna(valeurs):\n",
    "        return ''\n",
    "    valeurs_liste = valeurs.split(',')\n",
    "    valeurs_uniques = list(dict.fromkeys(valeurs_liste))\n",
    "    return ','.join(valeurs_uniques)\n",
    "\n",
    "# Appliquer la fonction pour supprimer les doublons\n",
    "df[pers_type] = df[pers_type].apply(supprimer_doublons)\n",
    "df[f'{pers_type}_id'] = df[f'{pers_type}_id'].apply(supprimer_doublons)\n",
    "\n",
    "# Split les chaînes de caractères dans les colonnes `star` et `star_id`\n",
    "df[pers_type] = df[pers_type].str.split(', ')\n",
    "df[f'{pers_type}_id'] = df[f'{pers_type}_id'].str.split(',')\n",
    "\n",
    "# S'assurer que chaque élément de la liste `star` est associé à son `star_id`\n",
    "df_final = df.apply(lambda x: pd.Series(zip(x[pers_type], x[f'{pers_type}_id'])), axis=1).stack().reset_index(level=1, drop=True).apply(pd.Series)\n",
    "\n",
    "# Renommer les colonnes du DataFrame final\n",
    "df_final.columns = [pers_type, f'{pers_type}_id']\n",
    "\n",
    "df_clean = df_final.dropna(how='all')\n",
    "\n",
    "df_clean[f'{pers_type}_id'] = df_clean[f'{pers_type}_id'].str.replace('/name/', '')\n",
    "df_clean[f'{pers_type}_id'] = df_clean[f'{pers_type}_id'].str.replace('/', '')\n",
    "\n",
    "# Compter le nombre de lignes avant la suppression des doublons\n",
    "nombre_lignes_avant = len(df_clean)\n",
    "\n",
    "# Suppression des lignes dupliquées\n",
    "df_clean = df_clean.drop_duplicates()\n",
    "\n",
    "# Compter le nombre de lignes après la suppression des doublons\n",
    "nombre_lignes_apres = len(df_clean)\n",
    "\n",
    "# Calculer le nombre de lignes supprimées\n",
    "nombre_lignes_supprimees = nombre_lignes_avant - nombre_lignes_apres\n",
    "\n",
    "# Sauvegarder le résultat\n",
    "df_clean.to_csv(f'Data/nom_imdbID_{pers_type}.csv', index=False)"
   ]
  }
 ],
 "metadata": {
  "kernelspec": {
   "display_name": "base",
   "language": "python",
   "name": "python3"
  },
  "language_info": {
   "codemirror_mode": {
    "name": "ipython",
    "version": 3
   },
   "file_extension": ".py",
   "mimetype": "text/x-python",
   "name": "python",
   "nbconvert_exporter": "python",
   "pygments_lexer": "ipython3",
   "version": "3.11.5"
  }
 },
 "nbformat": 4,
 "nbformat_minor": 2
}
