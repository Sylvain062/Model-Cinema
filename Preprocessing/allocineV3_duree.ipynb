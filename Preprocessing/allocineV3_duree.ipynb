{
 "cells": [
  {
   "cell_type": "code",
   "execution_count": 3,
   "id": "5e84f8e1-ac68-4200-8af7-c703610a83b0",
   "metadata": {
    "tags": []
   },
   "outputs": [
    {
     "data": {
      "text/html": [
       "<div>\n",
       "<style scoped>\n",
       "    .dataframe tbody tr th:only-of-type {\n",
       "        vertical-align: middle;\n",
       "    }\n",
       "\n",
       "    .dataframe tbody tr th {\n",
       "        vertical-align: top;\n",
       "    }\n",
       "\n",
       "    .dataframe thead th {\n",
       "        text-align: right;\n",
       "    }\n",
       "</style>\n",
       "<table border=\"1\" class=\"dataframe\">\n",
       "  <thead>\n",
       "    <tr style=\"text-align: right;\">\n",
       "      <th></th>\n",
       "      <th>ID</th>\n",
       "      <th>titre</th>\n",
       "      <th>titre_original</th>\n",
       "      <th>acteurs</th>\n",
       "      <th>acteur_1</th>\n",
       "      <th>acteur_2</th>\n",
       "      <th>acteur_3</th>\n",
       "      <th>acteur_4</th>\n",
       "      <th>realisateur</th>\n",
       "      <th>real_1</th>\n",
       "      <th>...</th>\n",
       "      <th>cumul_france</th>\n",
       "      <th>premiere_semaine_US</th>\n",
       "      <th>cumul_US</th>\n",
       "      <th>date2</th>\n",
       "      <th>annee</th>\n",
       "      <th>jour_split</th>\n",
       "      <th>mois_split</th>\n",
       "      <th>annee_split</th>\n",
       "      <th>day_of_week_split</th>\n",
       "      <th>year</th>\n",
       "    </tr>\n",
       "  </thead>\n",
       "  <tbody>\n",
       "    <tr>\n",
       "      <th>0</th>\n",
       "      <td>1317</td>\n",
       "      <td>Vivre !</td>\n",
       "      <td>NaN</td>\n",
       "      <td>Aymeric Cormerais, Jean-Jacques Le Vessier, Ga...</td>\n",
       "      <td>Aymeric Cormerais</td>\n",
       "      <td>Jean-Jacques Le Vessier</td>\n",
       "      <td>GaÃ«l Tanniou</td>\n",
       "      <td>Lydie WaÃ¯</td>\n",
       "      <td>Yvon Marciano</td>\n",
       "      <td>Yvon Marciano</td>\n",
       "      <td>...</td>\n",
       "      <td>3364.0</td>\n",
       "      <td>NaN</td>\n",
       "      <td>NaN</td>\n",
       "      <td>2009-10-07</td>\n",
       "      <td>2009.0</td>\n",
       "      <td>7.0</td>\n",
       "      <td>10.0</td>\n",
       "      <td>2009.0</td>\n",
       "      <td>2.0</td>\n",
       "      <td>2009.0</td>\n",
       "    </tr>\n",
       "    <tr>\n",
       "      <th>1</th>\n",
       "      <td>2314</td>\n",
       "      <td>La PassagÃ¨re</td>\n",
       "      <td>Pasazerka</td>\n",
       "      <td>Anna Ciepielewska, Aleksandra Slaska, Jan Krec...</td>\n",
       "      <td>Anna Ciepielewska</td>\n",
       "      <td>Aleksandra Slaska</td>\n",
       "      <td>Jan Kreczmar</td>\n",
       "      <td>Marek Walczewski</td>\n",
       "      <td>Andrzej Munk, Witold Lesiewicz</td>\n",
       "      <td>Andrzej Munk</td>\n",
       "      <td>...</td>\n",
       "      <td>2640.0</td>\n",
       "      <td>NaN</td>\n",
       "      <td>NaN</td>\n",
       "      <td>1964-10-28</td>\n",
       "      <td>1964.0</td>\n",
       "      <td>28.0</td>\n",
       "      <td>10.0</td>\n",
       "      <td>1964.0</td>\n",
       "      <td>2.0</td>\n",
       "      <td>2023.0</td>\n",
       "    </tr>\n",
       "    <tr>\n",
       "      <th>2</th>\n",
       "      <td>3239</td>\n",
       "      <td>The Lodger: A Story of the London Fog</td>\n",
       "      <td>NaN</td>\n",
       "      <td>Marie Ault, Arthur Chesney, Reginald Gardiner,...</td>\n",
       "      <td>Marie Ault</td>\n",
       "      <td>Arthur Chesney</td>\n",
       "      <td>Reginald Gardiner</td>\n",
       "      <td>Alfred Hitchcock</td>\n",
       "      <td>Alfred Hitchcock</td>\n",
       "      <td>Alfred Hitchcock</td>\n",
       "      <td>...</td>\n",
       "      <td>1084.0</td>\n",
       "      <td>NaN</td>\n",
       "      <td>NaN</td>\n",
       "      <td>2010-11-17</td>\n",
       "      <td>2010.0</td>\n",
       "      <td>17.0</td>\n",
       "      <td>11.0</td>\n",
       "      <td>2010.0</td>\n",
       "      <td>2.0</td>\n",
       "      <td>2010.0</td>\n",
       "    </tr>\n",
       "    <tr>\n",
       "      <th>3</th>\n",
       "      <td>4389</td>\n",
       "      <td>Sao Bernardo</td>\n",
       "      <td>NaN</td>\n",
       "      <td>Rodolfo Arena, Othon Bastos, Luiz Carlos Braga...</td>\n",
       "      <td>Rodolfo Arena</td>\n",
       "      <td>Othon Bastos</td>\n",
       "      <td>Luiz Carlos Braga</td>\n",
       "      <td>Josef Guerreiro</td>\n",
       "      <td>Leon Hirszman</td>\n",
       "      <td>Leon Hirszman</td>\n",
       "      <td>...</td>\n",
       "      <td>287.0</td>\n",
       "      <td>NaN</td>\n",
       "      <td>NaN</td>\n",
       "      <td>2014-06-11</td>\n",
       "      <td>2014.0</td>\n",
       "      <td>11.0</td>\n",
       "      <td>6.0</td>\n",
       "      <td>2014.0</td>\n",
       "      <td>2.0</td>\n",
       "      <td>2014.0</td>\n",
       "    </tr>\n",
       "    <tr>\n",
       "      <th>4</th>\n",
       "      <td>5134</td>\n",
       "      <td>El Otro Cristobal</td>\n",
       "      <td>NaN</td>\n",
       "      <td>Jean Bouise, Alden Knight, Bertina Acevedo, Pi...</td>\n",
       "      <td>Jean Bouise</td>\n",
       "      <td>Alden Knight</td>\n",
       "      <td>Bertina Acevedo</td>\n",
       "      <td>Pierre Chaussat</td>\n",
       "      <td>Armand Gatti</td>\n",
       "      <td>Armand Gatti</td>\n",
       "      <td>...</td>\n",
       "      <td>1355.0</td>\n",
       "      <td>NaN</td>\n",
       "      <td>NaN</td>\n",
       "      <td>2019-09-18</td>\n",
       "      <td>2019.0</td>\n",
       "      <td>18.0</td>\n",
       "      <td>9.0</td>\n",
       "      <td>2019.0</td>\n",
       "      <td>2.0</td>\n",
       "      <td>2019.0</td>\n",
       "    </tr>\n",
       "  </tbody>\n",
       "</table>\n",
       "<p>5 rows × 44 columns</p>\n",
       "</div>"
      ],
      "text/plain": [
       "     ID                                  titre titre_original  \\\n",
       "0  1317                                Vivre !            NaN   \n",
       "1  2314                          La PassagÃ¨re      Pasazerka   \n",
       "2  3239  The Lodger: A Story of the London Fog            NaN   \n",
       "3  4389                           Sao Bernardo            NaN   \n",
       "4  5134                      El Otro Cristobal            NaN   \n",
       "\n",
       "                                             acteurs           acteur_1  \\\n",
       "0  Aymeric Cormerais, Jean-Jacques Le Vessier, Ga...  Aymeric Cormerais   \n",
       "1  Anna Ciepielewska, Aleksandra Slaska, Jan Krec...  Anna Ciepielewska   \n",
       "2  Marie Ault, Arthur Chesney, Reginald Gardiner,...         Marie Ault   \n",
       "3  Rodolfo Arena, Othon Bastos, Luiz Carlos Braga...      Rodolfo Arena   \n",
       "4  Jean Bouise, Alden Knight, Bertina Acevedo, Pi...        Jean Bouise   \n",
       "\n",
       "                   acteur_2            acteur_3           acteur_4  \\\n",
       "0   Jean-Jacques Le Vessier       GaÃ«l Tanniou         Lydie WaÃ¯   \n",
       "1         Aleksandra Slaska        Jan Kreczmar   Marek Walczewski   \n",
       "2            Arthur Chesney   Reginald Gardiner   Alfred Hitchcock   \n",
       "3              Othon Bastos   Luiz Carlos Braga    Josef Guerreiro   \n",
       "4              Alden Knight     Bertina Acevedo    Pierre Chaussat   \n",
       "\n",
       "                      realisateur            real_1  ... cumul_france  \\\n",
       "0                   Yvon Marciano     Yvon Marciano  ...       3364.0   \n",
       "1  Andrzej Munk, Witold Lesiewicz      Andrzej Munk  ...       2640.0   \n",
       "2                Alfred Hitchcock  Alfred Hitchcock  ...       1084.0   \n",
       "3                   Leon Hirszman     Leon Hirszman  ...        287.0   \n",
       "4                    Armand Gatti      Armand Gatti  ...       1355.0   \n",
       "\n",
       "  premiere_semaine_US cumul_US      date2   annee jour_split mois_split  \\\n",
       "0                 NaN      NaN 2009-10-07  2009.0        7.0       10.0   \n",
       "1                 NaN      NaN 1964-10-28  1964.0       28.0       10.0   \n",
       "2                 NaN      NaN 2010-11-17  2010.0       17.0       11.0   \n",
       "3                 NaN      NaN 2014-06-11  2014.0       11.0        6.0   \n",
       "4                 NaN      NaN 2019-09-18  2019.0       18.0        9.0   \n",
       "\n",
       "  annee_split day_of_week_split    year  \n",
       "0      2009.0               2.0  2009.0  \n",
       "1      1964.0               2.0  2023.0  \n",
       "2      2010.0               2.0  2010.0  \n",
       "3      2014.0               2.0  2014.0  \n",
       "4      2019.0               2.0  2019.0  \n",
       "\n",
       "[5 rows x 44 columns]"
      ]
     },
     "execution_count": 3,
     "metadata": {},
     "output_type": "execute_result"
    }
   ],
   "source": [
    "# Package\n",
    "import numpy as np\n",
    "import pandas as pd\n",
    "import matplotlib.pyplot as plt\n",
    "import seaborn as sns\n",
    "\n",
    "allocine = pd.read_excel(r\"C:\\Users\\maoui\\OneDrive\\Documents\\Data Scientest\\DTS - Projet\\allocineV3-ND.xlsx\")\n",
    "allocine.head()"
   ]
  },
  {
   "cell_type": "code",
   "execution_count": 4,
   "id": "9bd65b51-b9aa-4e1f-b46a-eea4a5ff465c",
   "metadata": {
    "tags": []
   },
   "outputs": [
    {
     "data": {
      "text/plain": [
       "(11074, 44)"
      ]
     },
     "execution_count": 4,
     "metadata": {},
     "output_type": "execute_result"
    }
   ],
   "source": [
    "allocine.shape"
   ]
  },
  {
   "cell_type": "code",
   "execution_count": 5,
   "id": "265b593d-20b7-4b7c-99f1-6ce909918a44",
   "metadata": {
    "tags": []
   },
   "outputs": [
    {
     "data": {
      "text/plain": [
       "ID                             0\n",
       "titre                          0\n",
       "titre_original              7037\n",
       "acteurs                     1726\n",
       "acteur_1                    1914\n",
       "acteur_2                    2114\n",
       "acteur_3                    2249\n",
       "acteur_4                    2401\n",
       "realisateur                  321\n",
       "real_1                       343\n",
       "real_2                      9954\n",
       "real_3                     10892\n",
       "genres                       325\n",
       "genre_1                      325\n",
       "genre_2                     6220\n",
       "genre_3                     9418\n",
       "genre_4                    10876\n",
       "genre_5                    11053\n",
       "genre_6                    11072\n",
       "genre_7                    11073\n",
       "scenariste                  1113\n",
       "scen_1                      1187\n",
       "scen_2                      4648\n",
       "scen_3                      7687\n",
       "duree                        423\n",
       "note_presse                  322\n",
       "note_spectateurs             953\n",
       "pays                         294\n",
       "distributeur                 439\n",
       "distrib_1                    439\n",
       "distrib_2                  10841\n",
       "distrib_3                  11073\n",
       "budget                     11074\n",
       "premiere_semaine_france      284\n",
       "cumul_france                 284\n",
       "premiere_semaine_US         8715\n",
       "cumul_US                    8768\n",
       "date2                        284\n",
       "annee                        284\n",
       "jour_split                   284\n",
       "mois_split                   284\n",
       "annee_split                  284\n",
       "day_of_week_split            284\n",
       "year                         284\n",
       "dtype: int64"
      ]
     },
     "execution_count": 5,
     "metadata": {},
     "output_type": "execute_result"
    }
   ],
   "source": [
    "# Vérification de l'absences de valeurs manquantes pour la colonne duree\n",
    "allocine.isna().sum()"
   ]
  },
  {
   "cell_type": "code",
   "execution_count": 6,
   "id": "2ad18944-7bb6-4c4b-bc5e-50a7e24b62d3",
   "metadata": {
    "tags": []
   },
   "outputs": [
    {
     "name": "stdout",
     "output_type": "stream",
     "text": [
      "     ID  duree\n",
      "0  1317  103.0\n",
      "1  2314   62.0\n",
      "2  3239   79.0\n",
      "3  4389  113.0\n",
      "4  5134  115.0\n"
     ]
    }
   ],
   "source": [
    "# Créer un nouveau DataFrame avec les colonnes ID et duree\n",
    "allocine_duree = allocine.loc[:, ['ID', 'duree']]\n",
    "\n",
    "# Afficher les premières lignes du nouveau DataFrame pour vérification\n",
    "print(allocine_duree.head())"
   ]
  },
  {
   "cell_type": "code",
   "execution_count": 7,
   "id": "12b96a9a-3acf-4999-89a1-1ba1a37a0e18",
   "metadata": {
    "tags": []
   },
   "outputs": [
    {
     "data": {
      "text/plain": [
       "count    10651.000000\n",
       "mean       100.973993\n",
       "std         21.393320\n",
       "min         24.000000\n",
       "25%         90.000000\n",
       "50%         98.000000\n",
       "75%        110.000000\n",
       "max        543.000000\n",
       "Name: duree, dtype: float64"
      ]
     },
     "execution_count": 7,
     "metadata": {},
     "output_type": "execute_result"
    }
   ],
   "source": [
    "# On regarde si on peut remplacer les NA de la colonne runtime_x par une moyenne ou une mediane\n",
    "allocine_duree['duree'].describe()"
   ]
  },
  {
   "cell_type": "code",
   "execution_count": 8,
   "id": "291fc887-5855-426c-ad46-66548b943475",
   "metadata": {
    "tags": []
   },
   "outputs": [],
   "source": [
    "# On va maintenant remplacer les valeurs manquantes de la durée par la médiane car le nombre important de valeurs extrêmes influences nécessairement plus la moyenne.\n",
    "median_duree = allocine['duree'].median()\n",
    "allocine_duree['duree'].fillna(median_duree, inplace=True)"
   ]
  },
  {
   "cell_type": "code",
   "execution_count": 10,
   "id": "aef426f9-9b5b-4c86-b1d4-47ae764c3fbc",
   "metadata": {
    "tags": []
   },
   "outputs": [
    {
     "data": {
      "text/plain": [
       "ID       0\n",
       "duree    0\n",
       "dtype: int64"
      ]
     },
     "execution_count": 10,
     "metadata": {},
     "output_type": "execute_result"
    }
   ],
   "source": [
    "# Vérification de l'absences de valeurs manquantes pour la colonne duree\n",
    "allocine_duree.isna().sum()"
   ]
  },
  {
   "cell_type": "code",
   "execution_count": 11,
   "id": "cb31ef4f-36af-405b-b4cd-42139bb5f632",
   "metadata": {
    "tags": []
   },
   "outputs": [],
   "source": [
    "# Enregistrer le DataFrame au format CSV avec le chemin spécifié\n",
    "allocine_duree.to_csv(r'C:\\Users\\maoui\\OneDrive\\Documents\\Data Scientest\\DTS - Projet\\allocine_duree.csv', index=False)"
   ]
  }
 ],
 "metadata": {
  "kernelspec": {
   "display_name": "Python 3 (ipykernel)",
   "language": "python",
   "name": "python3"
  },
  "language_info": {
   "codemirror_mode": {
    "name": "ipython",
    "version": 3
   },
   "file_extension": ".py",
   "mimetype": "text/x-python",
   "name": "python",
   "nbconvert_exporter": "python",
   "pygments_lexer": "ipython3",
   "version": "3.11.5"
  }
 },
 "nbformat": 4,
 "nbformat_minor": 5
}
