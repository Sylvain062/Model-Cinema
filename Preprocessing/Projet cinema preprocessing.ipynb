{
 "cells": [
  {
   "cell_type": "code",
   "execution_count": 2,
   "id": "99c7ab11",
   "metadata": {},
   "outputs": [
    {
     "name": "stdout",
     "output_type": "stream",
     "text": [
      "Shape_Etape#1  (12414, 19) avant toute modif\n",
      "Shape_Etape#2  (12414, 30) one hot encoding des genres, acteurs, correction point des notes presse\n",
      "Shape_Etape#3  (12411, 39) one hot encod des distrib, scenaristes,réalisateurs\n",
      "Shape_Etape#4  (12411, 44) traitement de la date de sortie / split jour, mois annee, joursem\n",
      "Shape_Etape#5  (12183, 45) traitement des devises et budget\n",
      "Shape_Etape#6  (12183, 31) suppression des colonnes non utiles et réagencement de l ordre des colonnes\n",
      "Shape_Etape#7  (10897, 31) suppression des NaN\n"
     ]
    },
    {
     "data": {
      "text/html": [
       "<div>\n",
       "<style scoped>\n",
       "    .dataframe tbody tr th:only-of-type {\n",
       "        vertical-align: middle;\n",
       "    }\n",
       "\n",
       "    .dataframe tbody tr th {\n",
       "        vertical-align: top;\n",
       "    }\n",
       "\n",
       "    .dataframe thead th {\n",
       "        text-align: right;\n",
       "    }\n",
       "</style>\n",
       "<table border=\"1\" class=\"dataframe\">\n",
       "  <thead>\n",
       "    <tr style=\"text-align: right;\">\n",
       "      <th></th>\n",
       "      <th>0</th>\n",
       "    </tr>\n",
       "  </thead>\n",
       "  <tbody>\n",
       "    <tr>\n",
       "      <th>titre_original</th>\n",
       "      <td>object</td>\n",
       "    </tr>\n",
       "    <tr>\n",
       "      <th>acteur_1</th>\n",
       "      <td>object</td>\n",
       "    </tr>\n",
       "    <tr>\n",
       "      <th>acteur_2</th>\n",
       "      <td>object</td>\n",
       "    </tr>\n",
       "    <tr>\n",
       "      <th>acteur_3</th>\n",
       "      <td>object</td>\n",
       "    </tr>\n",
       "    <tr>\n",
       "      <th>acteur_4</th>\n",
       "      <td>object</td>\n",
       "    </tr>\n",
       "    <tr>\n",
       "      <th>real_1</th>\n",
       "      <td>object</td>\n",
       "    </tr>\n",
       "    <tr>\n",
       "      <th>real_2</th>\n",
       "      <td>object</td>\n",
       "    </tr>\n",
       "    <tr>\n",
       "      <th>real_3</th>\n",
       "      <td>object</td>\n",
       "    </tr>\n",
       "    <tr>\n",
       "      <th>scen_1</th>\n",
       "      <td>object</td>\n",
       "    </tr>\n",
       "    <tr>\n",
       "      <th>scen_2</th>\n",
       "      <td>object</td>\n",
       "    </tr>\n",
       "    <tr>\n",
       "      <th>scen_3</th>\n",
       "      <td>object</td>\n",
       "    </tr>\n",
       "    <tr>\n",
       "      <th>distrib_1</th>\n",
       "      <td>object</td>\n",
       "    </tr>\n",
       "    <tr>\n",
       "      <th>distrib_2</th>\n",
       "      <td>object</td>\n",
       "    </tr>\n",
       "    <tr>\n",
       "      <th>distrib_3</th>\n",
       "      <td>object</td>\n",
       "    </tr>\n",
       "    <tr>\n",
       "      <th>genre_1</th>\n",
       "      <td>object</td>\n",
       "    </tr>\n",
       "    <tr>\n",
       "      <th>genre_2</th>\n",
       "      <td>object</td>\n",
       "    </tr>\n",
       "    <tr>\n",
       "      <th>genre_3</th>\n",
       "      <td>object</td>\n",
       "    </tr>\n",
       "    <tr>\n",
       "      <th>genre_4</th>\n",
       "      <td>object</td>\n",
       "    </tr>\n",
       "    <tr>\n",
       "      <th>genre_5</th>\n",
       "      <td>object</td>\n",
       "    </tr>\n",
       "    <tr>\n",
       "      <th>genre_6</th>\n",
       "      <td>object</td>\n",
       "    </tr>\n",
       "    <tr>\n",
       "      <th>genre_7</th>\n",
       "      <td>object</td>\n",
       "    </tr>\n",
       "    <tr>\n",
       "      <th>devises</th>\n",
       "      <td>object</td>\n",
       "    </tr>\n",
       "    <tr>\n",
       "      <th>budgets_montants</th>\n",
       "      <td>float32</td>\n",
       "    </tr>\n",
       "    <tr>\n",
       "      <th>pays</th>\n",
       "      <td>object</td>\n",
       "    </tr>\n",
       "    <tr>\n",
       "      <th>jour_sortie</th>\n",
       "      <td>float64</td>\n",
       "    </tr>\n",
       "    <tr>\n",
       "      <th>mois_sortie</th>\n",
       "      <td>float64</td>\n",
       "    </tr>\n",
       "    <tr>\n",
       "      <th>annee_sortie</th>\n",
       "      <td>float64</td>\n",
       "    </tr>\n",
       "    <tr>\n",
       "      <th>day_of_week_sortie</th>\n",
       "      <td>float64</td>\n",
       "    </tr>\n",
       "    <tr>\n",
       "      <th>note_presse</th>\n",
       "      <td>float64</td>\n",
       "    </tr>\n",
       "    <tr>\n",
       "      <th>duree</th>\n",
       "      <td>float64</td>\n",
       "    </tr>\n",
       "    <tr>\n",
       "      <th>premiere_semaine_france</th>\n",
       "      <td>float64</td>\n",
       "    </tr>\n",
       "  </tbody>\n",
       "</table>\n",
       "</div>"
      ],
      "text/plain": [
       "                               0\n",
       "titre_original            object\n",
       "acteur_1                  object\n",
       "acteur_2                  object\n",
       "acteur_3                  object\n",
       "acteur_4                  object\n",
       "real_1                    object\n",
       "real_2                    object\n",
       "real_3                    object\n",
       "scen_1                    object\n",
       "scen_2                    object\n",
       "scen_3                    object\n",
       "distrib_1                 object\n",
       "distrib_2                 object\n",
       "distrib_3                 object\n",
       "genre_1                   object\n",
       "genre_2                   object\n",
       "genre_3                   object\n",
       "genre_4                   object\n",
       "genre_5                   object\n",
       "genre_6                   object\n",
       "genre_7                   object\n",
       "devises                   object\n",
       "budgets_montants         float32\n",
       "pays                      object\n",
       "jour_sortie              float64\n",
       "mois_sortie              float64\n",
       "annee_sortie             float64\n",
       "day_of_week_sortie       float64\n",
       "note_presse              float64\n",
       "duree                    float64\n",
       "premiere_semaine_france  float64"
      ]
     },
     "metadata": {},
     "output_type": "display_data"
    }
   ],
   "source": [
    "import numpy as np\n",
    "import pandas as pd\n",
    "import matplotlib.pyplot as plt\n",
    "%matplotlib inline\n",
    "import seaborn as sns\n",
    "import os\n",
    "#test\n",
    "#************************************************************************\n",
    "# os.chdir('D:/Sylvain/github/Projet-Cinema')\n",
    "df=pd.read_csv('Data/allocine_V1.csv', sep=\",\", index_col='ID')\n",
    "print('Shape_Etape#1 ' ,df.shape,'avant toute modif') \n",
    "# on remplace les virgules par des points pour les notes\n",
    "df['note_presse']=df['note_presse'].replace(',', '.', regex=True)\n",
    "df['note_spectateurs']=df['note_spectateurs'].replace(',', '.', regex=True)\n",
    "df=df.astype({\"note_spectateurs\":\"float\",\"note_presse\":\"float\"})\n",
    "#on sépare les genres en plusieurs colonnes (1 genre par colonne)\n",
    "df[['genre_1','genre_2','genre_3','genre_4','genre_5','genre_6','genre_7']]=df['genre'].str.split(',', expand=True)\n",
    "df=df.rename({\"genre\":\"genres\"},axis=1)\n",
    "df[['acteur_1','acteur_2','acteur_3','acteur_4']]=df['acteurs'].str.split(',', expand=True) # idem pour acteurs\n",
    "print('Shape_Etape#2 ' ,df.shape,'one hot encoding des genres, acteurs, correction point des notes presse')\n",
    "# idem pour realisateurs mais on ne prend que les 3 premiers\n",
    "a=[]\n",
    "b=[]\n",
    "c=[]\n",
    "df['realisateur'].fillna('XXXX', inplace=True) # ca sert à éviter de faire planter le split si valeur Nan\n",
    "for i in range(len(df)):\n",
    "    if df['realisateur'].iloc[i].count(',')==0:\n",
    "        a.append(df['realisateur'].iloc[i].split(',')[0])\n",
    "        b.append(np.NaN)\n",
    "        c.append(np.NaN)\n",
    "    elif df['realisateur'].iloc[i].count(',')==1:\n",
    "        a.append(df['realisateur'].iloc[i].split(',')[0])\n",
    "        b.append(df['realisateur'].iloc[i].split(',')[1])\n",
    "        c.append(np.NaN)\n",
    "    elif df['realisateur'].iloc[i].count(',')>=2:\n",
    "        a.append(df['realisateur'].iloc[i].split(',')[0])\n",
    "        b.append(df['realisateur'].iloc[i].split(',')[1])\n",
    "        c.append(df['realisateur'].iloc[i].split(',')[2])\n",
    "df.insert(3,'real_1',a)\n",
    "df.insert(4,'real_2',b)\n",
    "df.insert(5,'real_3',c)\n",
    "df['realisateur']=df['realisateur'].replace('XXXX',np.NaN,regex=True) # et je retire les XXXX\n",
    "df['real_1']=df['real_1'].replace('XXXX',np.NaN,regex=True) # et je retire les XXXX\n",
    "#********************** pour les scenaristes et on prend les 3 premiers\n",
    "a=[]\n",
    "b=[]\n",
    "c=[]\n",
    "df['scenariste'].fillna('XXXX', inplace=True) # ca sert à éviter de faire planter le split si valeur Nan\n",
    "for i in range(len(df)):\n",
    "    if df['scenariste'].iloc[i].count(',')==0:\n",
    "        a.append(df['scenariste'].iloc[i].split(',')[0])\n",
    "        b.append(np.NaN)\n",
    "        c.append(np.NaN)\n",
    "    elif df['scenariste'].iloc[i].count(',')==1:\n",
    "        a.append(df['scenariste'].iloc[i].split(',')[0])\n",
    "        b.append(df['scenariste'].iloc[i].split(',')[1])\n",
    "        c.append(np.NaN)\n",
    "    elif df['scenariste'].iloc[i].count(',')>=2:\n",
    "        a.append(df['scenariste'].iloc[i].split(',')[0])\n",
    "        b.append(df['scenariste'].iloc[i].split(',')[1])\n",
    "        c.append(df['scenariste'].iloc[i].split(',')[2])\n",
    "df.insert(7,'scen_1',a)\n",
    "df.insert(8,'scen_2',b)\n",
    "df.insert(9,'scen_3',c)\n",
    "df['scenariste']=df['scenariste'].replace('XXXX',np.NaN,regex=True) # et je retire les XXXX\n",
    "df['scen_1']=df['scen_1'].replace('XXXX',np.NaN,regex=True) # et je retire les XXXX\n",
    "#********************** pour les distributeurs et on prend les 3 premiers\n",
    "a=[]\n",
    "b=[]\n",
    "c=[]\n",
    "df['distributeur'].fillna('XXXX', inplace=True) # ca sert à éviter de faire planter le split si valeur Nan\n",
    "for i in range(len(df)):\n",
    "    if df['distributeur'].iloc[i].count('/')==0:\n",
    "        a.append(df['distributeur'].iloc[i].split('/')[0])\n",
    "        b.append(np.NaN)\n",
    "        c.append(np.NaN)\n",
    "    elif df['distributeur'].iloc[i].count('/')==1:\n",
    "        a.append(df['distributeur'].iloc[i].split('/')[0])\n",
    "        b.append(df['distributeur'].iloc[i].split('/')[1])\n",
    "        c.append(np.NaN)\n",
    "    elif df['distributeur'].iloc[i].count('/')>=2:\n",
    "        a.append(df['distributeur'].iloc[i].split('/')[0])\n",
    "        b.append(df['distributeur'].iloc[i].split('/')[1])\n",
    "        c.append(df['distributeur'].iloc[i].split('/')[2])\n",
    "df.insert(7,'distrib_1',a)\n",
    "df.insert(8,'distrib_2',b)\n",
    "df.insert(9,'distrib_3',c)\n",
    "df['distributeur']=df['distributeur'].replace('XXXX',np.NaN,regex=True) # et je retire les XXXX\n",
    "df['distrib_1']=df['distrib_1'].replace('XXXX',np.NaN,regex=True) # et je retire les XXXX\n",
    "# # ******************************************************************\n",
    "# #on enleve les films 257571,291995, 36282 et toutes les date commencant par publiée le\n",
    "df.drop(257571,inplace=True)\n",
    "df.drop(291995,inplace=True)\n",
    "df.drop(36282,inplace=True)\n",
    "\n",
    "df['date']=df['date'].replace('Publiée le ', '', regex=True)\n",
    "print('Shape_Etape#3 ' ,df.shape,'one hot encod des distrib, scenaristes,réalisateurs')\n",
    "# #******************************************************************\n",
    "# #******** extraction des mois (conversion str en num de mois ********\n",
    "# #*********************************************************************\n",
    "df['date'].fillna('XX XX XXXX', inplace=True) # ca sert à éviter de faire planter le split si valeur Nan\n",
    "df[['jour_sortie','mois_sortie','annee_sortie']]=df['date'].str.split(' ', expand=True)\n",
    "# on remplace les mois en str par leurs numéros\n",
    "df['mois_sortie'].replace({'janvier' : '1','février' : '2','mars' : '3','avril' : '4','mai' : '5','juin' : '6',\n",
    "                               'juillet' : '7','août' : '8','septembre' : '9','octobre' : '10',\n",
    "                               'novembre' : '11','décembre' : '12', },inplace = True)\n",
    "df['date']=df['date'].replace('XX XX XXXX',np.NaN,regex=True) # et je retire les XXXX\n",
    "df['jour_sortie']=df['jour_sortie'].replace('XX',np.NaN,regex=True) # et je retire les XXXX\n",
    "df['mois_sortie']=df['mois_sortie'].replace('XX',np.NaN,regex=True) # et je retire les XXXX\n",
    "df['annee_sortie']=df['annee_sortie'].replace('XXXX',np.NaN,regex=True) # et je retire les XXXX\n",
    "# on cree un colonne date avec les jours,mois, annee\n",
    "df.insert(30,'date2',pd.to_datetime(dict(year=df.annee_sortie, month=df.mois_sortie, day=df.jour_sortie)))\n",
    "#on cree une colonne avec les jours semaine\n",
    "df['day_of_week_sortie'] = df['date2'].dt.weekday\n",
    "\n",
    "# on enlève les espaces dans la colonnes nb entrées semaine france (target) ****************\n",
    "df.premiere_semaine_france = df.premiere_semaine_france.str.replace(' ', '')\n",
    "#reformatage des colonnes dates et target\n",
    "convert_dict = {'jour_sortie': float,\n",
    "                'mois_sortie': float,\n",
    "                'annee_sortie': float,\n",
    "                'premiere_semaine_france' :float,\n",
    "                }\n",
    "df=df.astype(convert_dict)\n",
    "print('Shape_Etape#4 ' ,df.shape,'traitement de la date de sortie / split jour, mois annee, joursem')\n",
    "#************** traitement des budgets & devises ***************************\n",
    "# on crée une colonne de Nan pour identifier les devises\n",
    "df.insert(30,'devises',np.NaN)\n",
    "df['budget'].fillna('XX', inplace=True) # ca sert à éviter de faire planter le split si valeur Nan\n",
    "#puis on regarde pour chaque cellule du budget si un signe de devise apparait et on indique dans la cellule devise la correspondance\n",
    "pd.options.mode.chained_assignment = None\n",
    "for i in range(df.shape[0]):\n",
    "    if df['budget'].iloc[i].find(\"$\") >=0 :\n",
    "          df['devises'].iloc[i]='dollars'\n",
    "    elif df['budget'].iloc[i].lower().find(\"usd\") >=0 :\n",
    "          df['devises'].iloc[i]='dollars'\n",
    "    elif df['budget'].iloc[i].lower().find(\"dolla\") >=0 :\n",
    "          df['devises'].iloc[i]='dollars'\n",
    "    elif df['budget'].iloc[i].find(\"€\") >=0 :\n",
    "        df['devises'].iloc[i]='euros'\n",
    "    elif df['budget'].iloc[i].lower().find(\"eur\") >=0 :\n",
    "        df['devises'].iloc[i]='euros'\n",
    "    elif df['budget'].iloc[i].find(\"F\") >=0 :\n",
    "        df['devises'].iloc[i]='francs'\n",
    "    elif df['budget'].iloc[i].lower().find(\"franc\") >=0 :\n",
    "        df['devises'].iloc[i]='francs'\n",
    "    elif df['budget'].iloc[i].find(\"£\") >=0 :\n",
    "        df['devises'].iloc[i]='livre'\n",
    "    elif df['budget'].iloc[i].lower().find(\"livre\") >=0 :\n",
    "        df['devises'].iloc[i]='livres'\n",
    "    elif df['budget'].iloc[i].lower().find(\"pfund\") >=0 :\n",
    "        df['devises'].iloc[i]='livres'\n",
    "    elif df['budget'].iloc[i].lower().find(\"yen\") >=0 :\n",
    "        df['devises'].iloc[i]='yens'\n",
    "    elif df['budget'].iloc[i].lower().lower().find(\"jpy\") >=0 :\n",
    "        df['devises'].iloc[i]='yens'\n",
    "    elif df['budget'].iloc[i].find(\"¥\") >=0 :\n",
    "        df['devises'].iloc[i]='yens'\n",
    "    elif df['budget'].iloc[i].lower().find(\"cad\") >=0 :\n",
    "        df['devises'].iloc[i]='dollars canadiens'\n",
    "    elif df['budget'].iloc[i].lower().find(\"aud\") >=0 :\n",
    "        df['devises'].iloc[i]='dollars australiens'\n",
    "    elif df['budget'].iloc[i].lower().find(\"inr\") >=0 :\n",
    "        df['devises'].iloc[i]='roupie indienne'\n",
    "    elif df['budget'].iloc[i].lower().find(\"nok\") >=0 :\n",
    "        df['devises'].iloc[i]='couronne norvegienne'\n",
    "    else :\n",
    "         df['devises'].iloc[i]='XX'\n",
    "# et je retire les XXXX\n",
    "df['devises']=df['devises'].replace('XX',np.NaN,regex=True) \n",
    "# puis on cree une colonne en copiant la serie budget en ne reprenant que les chiffres\n",
    "import re\n",
    "df.insert(31,'budgets_montants',df['budget'].apply(lambda x: re.sub(r'[^0-9]', '', x)))\n",
    "# on change le type de la colonne\n",
    "df['budgets_montants']=pd.to_numeric(df['budgets_montants'], downcast=\"float\")\n",
    "#on traite les M€\n",
    "# il y a 228 films avec un budget <100000 / choix de supprimer cette infos qui correspond à des M€\n",
    "df=df.loc[(df.budgets_montants.isna())|(df.budgets_montants>100000)]\n",
    "\n",
    "# on supprime l'ancienne colonne budget \n",
    "df = df.drop('budget', axis=1)\n",
    "print('Shape_Etape#5 ' ,df.shape,'traitement des devises et budget')\n",
    "# Remplacer les valeurs manquantes de la colonne 'titre_original' par la valeur de la colonne 'titre'.\n",
    "df['titre_original'] = df['titre_original'].fillna(df['titre'])\n",
    "\n",
    "#************ reagencement et suppression des colonnes non utiles ************************************\n",
    "df = df.reindex(['titre_original', \n",
    "'acteur_1', 'acteur_2', 'acteur_3', 'acteur_4',\n",
    "'real_1', 'real_2', 'real_3',\n",
    "'scen_1', 'scen_2', 'scen_3',\n",
    "'distrib_1', 'distrib_2', 'distrib_3',\n",
    "'genre_1', 'genre_2', 'genre_3', 'genre_4', 'genre_5', 'genre_6', 'genre_7',\n",
    "'devises', 'budgets_montants',\n",
    "'pays',\n",
    "'jour_sortie','mois_sortie', 'annee_sortie', 'day_of_week_sortie',\n",
    "'note_presse',\n",
    "'duree',\n",
    "'premiere_semaine_france'], axis=1)\n",
    "print('Shape_Etape#6 ' ,df.shape,'suppression des colonnes non utiles et réagencement de l ordre des colonnes') \n",
    "#*****************************************************************************************\n",
    "# Suppression des lignes qui ont une valeur manquante dans les colonnes choisies.\n",
    "df = df.dropna(axis = 0, how = 'any',subset=['premiere_semaine_france','pays','jour_sortie','duree','note_presse'])\n",
    "print('Shape_Etape#7 ' ,df.shape,'suppression des NaN') \n",
    "# '******************************  création des scores de potentiel de succès des PP et PM ********************'\n",
    "gg=pd.DataFrame(df.dtypes)\n",
    "display(gg)\n",
    "df.to_csv('Data/allocineV5-SB.csv')"
   ]
  },
  {
   "cell_type": "markdown",
   "id": "94226e78",
   "metadata": {},
   "source": [
    "**Répartition des types de variables du DF**                   "
   ]
  },
  {
   "cell_type": "markdown",
   "id": "41f4bc90",
   "metadata": {},
   "source": [
    "**Valeurs manquantes du DF**"
   ]
  },
  {
   "cell_type": "code",
   "execution_count": 27,
   "id": "c4c6f5e6",
   "metadata": {},
   "outputs": [
    {
     "data": {
      "image/png": "[encoded data removed]",
      "text/plain": [
       "<Figure size 1440x720 with 1 Axes>"
      ]
     },
     "metadata": {
      "needs_background": "light"
     },
     "output_type": "display_data"
    }
   ],
   "source": [
    "plt.figure(figsize=(20,10))\n",
    "sns.heatmap(df.isna(),cbar=False); "
   ]
  },
  {
   "cell_type": "markdown",
   "id": "5ea68efd",
   "metadata": {},
   "source": [
    "**repartition par nationalité**"
   ]
  },
  {
   "cell_type": "code",
   "execution_count": 28,
   "id": "2cb10992",
   "metadata": {},
   "outputs": [
    {
     "data": {
      "application/vnd.plotly.v1+json": {
       "config": {
        "plotlyServerURL": "https://plot.ly"
       },
       "data": [
        {
         "domain": {
          "x": [
           0,
           1
          ],
          "y": [
           0,
           1
          ]
         },
         "hovertemplate": "label=%{label}<br>value=%{value}<extra></extra>",
         "labels": [
          "Allemagne",
          "Belgique",
          "Canada",
          "Espagne",
          "France",
          "Grande-Bretagne",
          "Inde",
          "Italie",
          "Japon",
          "Other",
          "U.S.A."
         ],
         "legendgroup": "",
         "name": "",
         "showlegend": true,
         "type": "pie",
         "values": [
          253,
          155,
          139,
          214,
          4637,
          461,
          136,
          233,
          201,
          1793,
          2857
         ]
        }
       ],
       "layout": {
        "legend": {
         "tracegroupgap": 0
        },
        "template": {
         "data": {
          "bar": [
           {
            "error_x": {
             "color": "#2a3f5f"
            },
            "error_y": {
             "color": "#2a3f5f"
            },
            "marker": {
             "line": {
              "color": "#E5ECF6",
              "width": 0.5
             },
             "pattern": {
              "fillmode": "overlay",
              "size": 10,
              "solidity": 0.2
             }
            },
            "type": "bar"
           }
          ],
          "barpolar": [
           {
            "marker": {
             "line": {
              "color": "#E5ECF6",
              "width": 0.5
             },
             "pattern": {
              "fillmode": "overlay",
              "size": 10,
              "solidity": 0.2
             }
            },
            "type": "barpolar"
           }
          ],
          "carpet": [
           {
            "aaxis": {
             "endlinecolor": "#2a3f5f",
             "gridcolor": "white",
             "linecolor": "white",
             "minorgridcolor": "white",
             "startlinecolor": "#2a3f5f"
            },
            "baxis": {
             "endlinecolor": "#2a3f5f",
             "gridcolor": "white",
             "linecolor": "white",
             "minorgridcolor": "white",
             "startlinecolor": "#2a3f5f"
            },
            "type": "carpet"
           }
          ],
          "choropleth": [
           {
            "colorbar": {
             "outlinewidth": 0,
             "ticks": ""
            },
            "type": "choropleth"
           }
          ],
          "contour": [
           {
            "colorbar": {
             "outlinewidth": 0,
             "ticks": ""
            },
            "colorscale": [
             [
              0,
              "#0d0887"
             ],
             [
              0.1111111111111111,
              "#46039f"
             ],
             [
              0.2222222222222222,
              "#7201a8"
             ],
             [
              0.3333333333333333,
              "#9c179e"
             ],
             [
              0.4444444444444444,
              "#bd3786"
             ],
             [
              0.5555555555555556,
              "#d8576b"
             ],
             [
              0.6666666666666666,
              "#ed7953"
             ],
             [
              0.7777777777777778,
              "#fb9f3a"
             ],
             [
              0.8888888888888888,
              "#fdca26"
             ],
             [
              1,
              "#f0f921"
             ]
            ],
            "type": "contour"
           }
          ],
          "contourcarpet": [
           {
            "colorbar": {
             "outlinewidth": 0,
             "ticks": ""
            },
            "type": "contourcarpet"
           }
          ],
          "heatmap": [
           {
            "colorbar": {
             "outlinewidth": 0,
             "ticks": ""
            },
            "colorscale": [
             [
              0,
              "#0d0887"
             ],
             [
              0.1111111111111111,
              "#46039f"
             ],
             [
              0.2222222222222222,
              "#7201a8"
             ],
             [
              0.3333333333333333,
              "#9c179e"
             ],
             [
              0.4444444444444444,
              "#bd3786"
             ],
             [
              0.5555555555555556,
              "#d8576b"
             ],
             [
              0.6666666666666666,
              "#ed7953"
             ],
             [
              0.7777777777777778,
              "#fb9f3a"
             ],
             [
              0.8888888888888888,
              "#fdca26"
             ],
             [
              1,
              "#f0f921"
             ]
            ],
            "type": "heatmap"
           }
          ],
          "heatmapgl": [
           {
            "colorbar": {
             "outlinewidth": 0,
             "ticks": ""
            },
            "colorscale": [
             [
              0,
              "#0d0887"
             ],
             [
              0.1111111111111111,
              "#46039f"
             ],
             [
              0.2222222222222222,
              "#7201a8"
             ],
             [
              0.3333333333333333,
              "#9c179e"
             ],
             [
              0.4444444444444444,
              "#bd3786"
             ],
             [
              0.5555555555555556,
              "#d8576b"
             ],
             [
              0.6666666666666666,
              "#ed7953"
             ],
             [
              0.7777777777777778,
              "#fb9f3a"
             ],
             [
              0.8888888888888888,
              "#fdca26"
             ],
             [
              1,
              "#f0f921"
             ]
            ],
            "type": "heatmapgl"
           }
          ],
          "histogram": [
           {
            "marker": {
             "pattern": {
              "fillmode": "overlay",
              "size": 10,
              "solidity": 0.2
             }
            },
            "type": "histogram"
           }
          ],
          "histogram2d": [
           {
            "colorbar": {
             "outlinewidth": 0,
             "ticks": ""
            },
            "colorscale": [
             [
              0,
              "#0d0887"
             ],
             [
              0.1111111111111111,
              "#46039f"
             ],
             [
              0.2222222222222222,
              "#7201a8"
             ],
             [
              0.3333333333333333,
              "#9c179e"
             ],
             [
              0.4444444444444444,
              "#bd3786"
             ],
             [
              0.5555555555555556,
              "#d8576b"
             ],
             [
              0.6666666666666666,
              "#ed7953"
             ],
             [
              0.7777777777777778,
              "#fb9f3a"
             ],
             [
              0.8888888888888888,
              "#fdca26"
             ],
             [
              1,
              "#f0f921"
             ]
            ],
            "type": "histogram2d"
           }
          ],
          "histogram2dcontour": [
           {
            "colorbar": {
             "outlinewidth": 0,
             "ticks": ""
            },
            "colorscale": [
             [
              0,
              "#0d0887"
             ],
             [
              0.1111111111111111,
              "#46039f"
             ],
             [
              0.2222222222222222,
              "#7201a8"
             ],
             [
              0.3333333333333333,
              "#9c179e"
             ],
             [
              0.4444444444444444,
              "#bd3786"
             ],
             [
              0.5555555555555556,
              "#d8576b"
             ],
             [
              0.6666666666666666,
              "#ed7953"
             ],
             [
              0.7777777777777778,
              "#fb9f3a"
             ],
             [
              0.8888888888888888,
              "#fdca26"
             ],
             [
              1,
              "#f0f921"
             ]
            ],
            "type": "histogram2dcontour"
           }
          ],
          "mesh3d": [
           {
            "colorbar": {
             "outlinewidth": 0,
             "ticks": ""
            },
            "type": "mesh3d"
           }
          ],
          "parcoords": [
           {
            "line": {
             "colorbar": {
              "outlinewidth": 0,
              "ticks": ""
             }
            },
            "type": "parcoords"
           }
          ],
          "pie": [
           {
            "automargin": true,
            "type": "pie"
           }
          ],
          "scatter": [
           {
            "marker": {
             "colorbar": {
              "outlinewidth": 0,
              "ticks": ""
             }
            },
            "type": "scatter"
           }
          ],
          "scatter3d": [
           {
            "line": {
             "colorbar": {
              "outlinewidth": 0,
              "ticks": ""
             }
            },
            "marker": {
             "colorbar": {
              "outlinewidth": 0,
              "ticks": ""
             }
            },
            "type": "scatter3d"
           }
          ],
          "scattercarpet": [
           {
            "marker": {
             "colorbar": {
              "outlinewidth": 0,
              "ticks": ""
             }
            },
            "type": "scattercarpet"
           }
          ],
          "scattergeo": [
           {
            "marker": {
             "colorbar": {
              "outlinewidth": 0,
              "ticks": ""
             }
            },
            "type": "scattergeo"
           }
          ],
          "scattergl": [
           {
            "marker": {
             "colorbar": {
              "outlinewidth": 0,
              "ticks": ""
             }
            },
            "type": "scattergl"
           }
          ],
          "scattermapbox": [
           {
            "marker": {
             "colorbar": {
              "outlinewidth": 0,
              "ticks": ""
             }
            },
            "type": "scattermapbox"
           }
          ],
          "scatterpolar": [
           {
            "marker": {
             "colorbar": {
              "outlinewidth": 0,
              "ticks": ""
             }
            },
            "type": "scatterpolar"
           }
          ],
          "scatterpolargl": [
           {
            "marker": {
             "colorbar": {
              "outlinewidth": 0,
              "ticks": ""
             }
            },
            "type": "scatterpolargl"
           }
          ],
          "scatterternary": [
           {
            "marker": {
             "colorbar": {
              "outlinewidth": 0,
              "ticks": ""
             }
            },
            "type": "scatterternary"
           }
          ],
          "surface": [
           {
            "colorbar": {
             "outlinewidth": 0,
             "ticks": ""
            },
            "colorscale": [
             [
              0,
              "#0d0887"
             ],
             [
              0.1111111111111111,
              "#46039f"
             ],
             [
              0.2222222222222222,
              "#7201a8"
             ],
             [
              0.3333333333333333,
              "#9c179e"
             ],
             [
              0.4444444444444444,
              "#bd3786"
             ],
             [
              0.5555555555555556,
              "#d8576b"
             ],
             [
              0.6666666666666666,
              "#ed7953"
             ],
             [
              0.7777777777777778,
              "#fb9f3a"
             ],
             [
              0.8888888888888888,
              "#fdca26"
             ],
             [
              1,
              "#f0f921"
             ]
            ],
            "type": "surface"
           }
          ],
          "table": [
           {
            "cells": {
             "fill": {
              "color": "#EBF0F8"
             },
             "line": {
              "color": "white"
             }
            },
            "header": {
             "fill": {
              "color": "#C8D4E3"
             },
             "line": {
              "color": "white"
             }
            },
            "type": "table"
           }
          ]
         },
         "layout": {
          "annotationdefaults": {
           "arrowcolor": "#2a3f5f",
           "arrowhead": 0,
           "arrowwidth": 1
          },
          "autotypenumbers": "strict",
          "coloraxis": {
           "colorbar": {
            "outlinewidth": 0,
            "ticks": ""
           }
          },
          "colorscale": {
           "diverging": [
            [
             0,
             "#8e0152"
            ],
            [
             0.1,
             "#c51b7d"
            ],
            [
             0.2,
             "#de77ae"
            ],
            [
             0.3,
             "#f1b6da"
            ],
            [
             0.4,
             "#fde0ef"
            ],
            [
             0.5,
             "#f7f7f7"
            ],
            [
             0.6,
             "#e6f5d0"
            ],
            [
             0.7,
             "#b8e186"
            ],
            [
             0.8,
             "#7fbc41"
            ],
            [
             0.9,
             "#4d9221"
            ],
            [
             1,
             "#276419"
            ]
           ],
           "sequential": [
            [
             0,
             "#0d0887"
            ],
            [
             0.1111111111111111,
             "#46039f"
            ],
            [
             0.2222222222222222,
             "#7201a8"
            ],
            [
             0.3333333333333333,
             "#9c179e"
            ],
            [
             0.4444444444444444,
             "#bd3786"
            ],
            [
             0.5555555555555556,
             "#d8576b"
            ],
            [
             0.6666666666666666,
             "#ed7953"
            ],
            [
             0.7777777777777778,
             "#fb9f3a"
            ],
            [
             0.8888888888888888,
             "#fdca26"
            ],
            [
             1,
             "#f0f921"
            ]
           ],
           "sequentialminus": [
            [
             0,
             "#0d0887"
            ],
            [
             0.1111111111111111,
             "#46039f"
            ],
            [
             0.2222222222222222,
             "#7201a8"
            ],
            [
             0.3333333333333333,
             "#9c179e"
            ],
            [
             0.4444444444444444,
             "#bd3786"
            ],
            [
             0.5555555555555556,
             "#d8576b"
            ],
            [
             0.6666666666666666,
             "#ed7953"
            ],
            [
             0.7777777777777778,
             "#fb9f3a"
            ],
            [
             0.8888888888888888,
             "#fdca26"
            ],
            [
             1,
             "#f0f921"
            ]
           ]
          },
          "colorway": [
           "#636efa",
           "#EF553B",
           "#00cc96",
           "#ab63fa",
           "#FFA15A",
           "#19d3f3",
           "#FF6692",
           "#B6E880",
           "#FF97FF",
           "#FECB52"
          ],
          "font": {
           "color": "#2a3f5f"
          },
          "geo": {
           "bgcolor": "white",
           "lakecolor": "white",
           "landcolor": "#E5ECF6",
           "showlakes": true,
           "showland": true,
           "subunitcolor": "white"
          },
          "hoverlabel": {
           "align": "left"
          },
          "hovermode": "closest",
          "mapbox": {
           "style": "light"
          },
          "paper_bgcolor": "white",
          "plot_bgcolor": "#E5ECF6",
          "polar": {
           "angularaxis": {
            "gridcolor": "white",
            "linecolor": "white",
            "ticks": ""
           },
           "bgcolor": "#E5ECF6",
           "radialaxis": {
            "gridcolor": "white",
            "linecolor": "white",
            "ticks": ""
           }
          },
          "scene": {
           "xaxis": {
            "backgroundcolor": "#E5ECF6",
            "gridcolor": "white",
            "gridwidth": 2,
            "linecolor": "white",
            "showbackground": true,
            "ticks": "",
            "zerolinecolor": "white"
           },
           "yaxis": {
            "backgroundcolor": "#E5ECF6",
            "gridcolor": "white",
            "gridwidth": 2,
            "linecolor": "white",
            "showbackground": true,
            "ticks": "",
            "zerolinecolor": "white"
           },
           "zaxis": {
            "backgroundcolor": "#E5ECF6",
            "gridcolor": "white",
            "gridwidth": 2,
            "linecolor": "white",
            "showbackground": true,
            "ticks": "",
            "zerolinecolor": "white"
           }
          },
          "shapedefaults": {
           "line": {
            "color": "#2a3f5f"
           }
          },
          "ternary": {
           "aaxis": {
            "gridcolor": "white",
            "linecolor": "white",
            "ticks": ""
           },
           "baxis": {
            "gridcolor": "white",
            "linecolor": "white",
            "ticks": ""
           },
           "bgcolor": "#E5ECF6",
           "caxis": {
            "gridcolor": "white",
            "linecolor": "white",
            "ticks": ""
           }
          },
          "title": {
           "x": 0.05
          },
          "xaxis": {
           "automargin": true,
           "gridcolor": "white",
           "linecolor": "white",
           "ticks": "",
           "title": {
            "standoff": 15
           },
           "zerolinecolor": "white",
           "zerolinewidth": 2
          },
          "yaxis": {
           "automargin": true,
           "gridcolor": "white",
           "linecolor": "white",
           "ticks": "",
           "title": {
            "standoff": 15
           },
           "zerolinecolor": "white",
           "zerolinewidth": 2
          }
         }
        },
        "title": {
         "text": "Réparatition du nombre de films par nationalité"
        }
       }
      }
     },
     "metadata": {},
     "output_type": "display_data"
    }
   ],
   "source": [
    "import plotly.express as px\n",
    "\n",
    "\n",
    "gg=df.pays.value_counts()\n",
    "gg=gg.reset_index()\n",
    "gg=gg.rename({\"index\":\"pays\",\"pays\":\"nb\"},axis=1)\n",
    "gg.loc[gg['nb'] <100, \"pays\"] = \"Other\"\n",
    "hh=gg.groupby(['pays']).sum()\n",
    "hh=hh.reset_index()\n",
    "\n",
    "\n",
    "fig = px.pie(df, values=hh.nb, names=hh.pays,title='Réparatition du nombre de films par nationalité')\n",
    "fig.show()\n"
   ]
  },
  {
   "attachments": {
    "image.png": {
     "image/png": "[encoded data removed]"
    }
   },
   "cell_type": "markdown",
   "id": "2bd4808c",
   "metadata": {},
   "source": [
    "![image.png](attachment:image.png)"
   ]
  },
  {
   "cell_type": "markdown",
   "id": "309a04de",
   "metadata": {},
   "source": [
    "**relation note presse et note spectateurs**"
   ]
  },
  {
   "cell_type": "code",
   "execution_count": 29,
   "id": "1e96c5fb",
   "metadata": {},
   "outputs": [
    {
     "ename": "KeyError",
     "evalue": "\"['note_spectateurs'] not in index\"",
     "output_type": "error",
     "traceback": [
      "\u001b[1;31m---------------------------------------------------------------------------\u001b[0m",
      "\u001b[1;31mKeyError\u001b[0m                                  Traceback (most recent call last)",
      "Input \u001b[1;32mIn [29]\u001b[0m, in \u001b[0;36m<cell line: 1>\u001b[1;34m()\u001b[0m\n\u001b[1;32m----> 1\u001b[0m \u001b[43msns\u001b[49m\u001b[38;5;241;43m.\u001b[39;49m\u001b[43mlmplot\u001b[49m\u001b[43m(\u001b[49m\u001b[43mx\u001b[49m\u001b[38;5;241;43m=\u001b[39;49m\u001b[38;5;124;43m'\u001b[39;49m\u001b[38;5;124;43mnote_presse\u001b[39;49m\u001b[38;5;124;43m'\u001b[39;49m\u001b[43m,\u001b[49m\u001b[43my\u001b[49m\u001b[38;5;241;43m=\u001b[39;49m\u001b[38;5;124;43m'\u001b[39;49m\u001b[38;5;124;43mnote_spectateurs\u001b[39;49m\u001b[38;5;124;43m'\u001b[39;49m\u001b[43m,\u001b[49m\u001b[43mdata\u001b[49m\u001b[38;5;241;43m=\u001b[39;49m\u001b[43mdf\u001b[49m\u001b[43m,\u001b[49m\u001b[43mci\u001b[49m\u001b[38;5;241;43m=\u001b[39;49m\u001b[38;5;241;43m100\u001b[39;49m\u001b[43m,\u001b[49m\u001b[43mline_kws\u001b[49m\u001b[38;5;241;43m=\u001b[39;49m\u001b[43m{\u001b[49m\u001b[38;5;124;43m'\u001b[39;49m\u001b[38;5;124;43mcolor\u001b[39;49m\u001b[38;5;124;43m'\u001b[39;49m\u001b[43m:\u001b[49m\u001b[43m \u001b[49m\u001b[38;5;124;43m'\u001b[39;49m\u001b[38;5;124;43mred\u001b[39;49m\u001b[38;5;124;43m'\u001b[39;49m\u001b[43m}\u001b[49m\u001b[43m,\u001b[49m\u001b[43m)\u001b[49m\n",
      "File \u001b[1;32mc:\\Users\\braiz\\anaconda3\\lib\\site-packages\\seaborn\\_decorators.py:46\u001b[0m, in \u001b[0;36m_deprecate_positional_args.<locals>.inner_f\u001b[1;34m(*args, **kwargs)\u001b[0m\n\u001b[0;32m     36\u001b[0m     warnings\u001b[38;5;241m.\u001b[39mwarn(\n\u001b[0;32m     37\u001b[0m         \u001b[38;5;124m\"\u001b[39m\u001b[38;5;124mPass the following variable\u001b[39m\u001b[38;5;132;01m{}\u001b[39;00m\u001b[38;5;124m as \u001b[39m\u001b[38;5;132;01m{}\u001b[39;00m\u001b[38;5;124mkeyword arg\u001b[39m\u001b[38;5;132;01m{}\u001b[39;00m\u001b[38;5;124m: \u001b[39m\u001b[38;5;132;01m{}\u001b[39;00m\u001b[38;5;124m. \u001b[39m\u001b[38;5;124m\"\u001b[39m\n\u001b[0;32m     38\u001b[0m         \u001b[38;5;124m\"\u001b[39m\u001b[38;5;124mFrom version 0.12, the only valid positional argument \u001b[39m\u001b[38;5;124m\"\u001b[39m\n\u001b[1;32m   (...)\u001b[0m\n\u001b[0;32m     43\u001b[0m         \u001b[38;5;167;01mFutureWarning\u001b[39;00m\n\u001b[0;32m     44\u001b[0m     )\n\u001b[0;32m     45\u001b[0m kwargs\u001b[38;5;241m.\u001b[39mupdate({k: arg \u001b[38;5;28;01mfor\u001b[39;00m k, arg \u001b[38;5;129;01min\u001b[39;00m \u001b[38;5;28mzip\u001b[39m(sig\u001b[38;5;241m.\u001b[39mparameters, args)})\n\u001b[1;32m---> 46\u001b[0m \u001b[38;5;28;01mreturn\u001b[39;00m f(\u001b[38;5;241m*\u001b[39m\u001b[38;5;241m*\u001b[39mkwargs)\n",
      "File \u001b[1;32mc:\\Users\\braiz\\anaconda3\\lib\\site-packages\\seaborn\\regression.py:605\u001b[0m, in \u001b[0;36mlmplot\u001b[1;34m(x, y, data, hue, col, row, palette, col_wrap, height, aspect, markers, sharex, sharey, hue_order, col_order, row_order, legend, legend_out, x_estimator, x_bins, x_ci, scatter, fit_reg, ci, n_boot, units, seed, order, logistic, lowess, robust, logx, x_partial, y_partial, truncate, x_jitter, y_jitter, scatter_kws, line_kws, facet_kws, size)\u001b[0m\n\u001b[0;32m    603\u001b[0m need_cols \u001b[38;5;241m=\u001b[39m [x, y, hue, col, row, units, x_partial, y_partial]\n\u001b[0;32m    604\u001b[0m cols \u001b[38;5;241m=\u001b[39m np\u001b[38;5;241m.\u001b[39munique([a \u001b[38;5;28;01mfor\u001b[39;00m a \u001b[38;5;129;01min\u001b[39;00m need_cols \u001b[38;5;28;01mif\u001b[39;00m a \u001b[38;5;129;01mis\u001b[39;00m \u001b[38;5;129;01mnot\u001b[39;00m \u001b[38;5;28;01mNone\u001b[39;00m])\u001b[38;5;241m.\u001b[39mtolist()\n\u001b[1;32m--> 605\u001b[0m data \u001b[38;5;241m=\u001b[39m \u001b[43mdata\u001b[49m\u001b[43m[\u001b[49m\u001b[43mcols\u001b[49m\u001b[43m]\u001b[49m\n\u001b[0;32m    607\u001b[0m \u001b[38;5;66;03m# Initialize the grid\u001b[39;00m\n\u001b[0;32m    608\u001b[0m facets \u001b[38;5;241m=\u001b[39m FacetGrid(\n\u001b[0;32m    609\u001b[0m     data, row\u001b[38;5;241m=\u001b[39mrow, col\u001b[38;5;241m=\u001b[39mcol, hue\u001b[38;5;241m=\u001b[39mhue,\n\u001b[0;32m    610\u001b[0m     palette\u001b[38;5;241m=\u001b[39mpalette,\n\u001b[1;32m   (...)\u001b[0m\n\u001b[0;32m    613\u001b[0m     \u001b[38;5;241m*\u001b[39m\u001b[38;5;241m*\u001b[39mfacet_kws,\n\u001b[0;32m    614\u001b[0m )\n",
      "File \u001b[1;32mc:\\Users\\braiz\\anaconda3\\lib\\site-packages\\pandas\\core\\frame.py:3511\u001b[0m, in \u001b[0;36mDataFrame.__getitem__\u001b[1;34m(self, key)\u001b[0m\n\u001b[0;32m   3509\u001b[0m     \u001b[38;5;28;01mif\u001b[39;00m is_iterator(key):\n\u001b[0;32m   3510\u001b[0m         key \u001b[38;5;241m=\u001b[39m \u001b[38;5;28mlist\u001b[39m(key)\n\u001b[1;32m-> 3511\u001b[0m     indexer \u001b[38;5;241m=\u001b[39m \u001b[38;5;28;43mself\u001b[39;49m\u001b[38;5;241;43m.\u001b[39;49m\u001b[43mcolumns\u001b[49m\u001b[38;5;241;43m.\u001b[39;49m\u001b[43m_get_indexer_strict\u001b[49m\u001b[43m(\u001b[49m\u001b[43mkey\u001b[49m\u001b[43m,\u001b[49m\u001b[43m \u001b[49m\u001b[38;5;124;43m\"\u001b[39;49m\u001b[38;5;124;43mcolumns\u001b[39;49m\u001b[38;5;124;43m\"\u001b[39;49m\u001b[43m)\u001b[49m[\u001b[38;5;241m1\u001b[39m]\n\u001b[0;32m   3513\u001b[0m \u001b[38;5;66;03m# take() does not accept boolean indexers\u001b[39;00m\n\u001b[0;32m   3514\u001b[0m \u001b[38;5;28;01mif\u001b[39;00m \u001b[38;5;28mgetattr\u001b[39m(indexer, \u001b[38;5;124m\"\u001b[39m\u001b[38;5;124mdtype\u001b[39m\u001b[38;5;124m\"\u001b[39m, \u001b[38;5;28;01mNone\u001b[39;00m) \u001b[38;5;241m==\u001b[39m \u001b[38;5;28mbool\u001b[39m:\n",
      "File \u001b[1;32mc:\\Users\\braiz\\anaconda3\\lib\\site-packages\\pandas\\core\\indexes\\base.py:5782\u001b[0m, in \u001b[0;36mIndex._get_indexer_strict\u001b[1;34m(self, key, axis_name)\u001b[0m\n\u001b[0;32m   5779\u001b[0m \u001b[38;5;28;01melse\u001b[39;00m:\n\u001b[0;32m   5780\u001b[0m     keyarr, indexer, new_indexer \u001b[38;5;241m=\u001b[39m \u001b[38;5;28mself\u001b[39m\u001b[38;5;241m.\u001b[39m_reindex_non_unique(keyarr)\n\u001b[1;32m-> 5782\u001b[0m \u001b[38;5;28;43mself\u001b[39;49m\u001b[38;5;241;43m.\u001b[39;49m\u001b[43m_raise_if_missing\u001b[49m\u001b[43m(\u001b[49m\u001b[43mkeyarr\u001b[49m\u001b[43m,\u001b[49m\u001b[43m \u001b[49m\u001b[43mindexer\u001b[49m\u001b[43m,\u001b[49m\u001b[43m \u001b[49m\u001b[43maxis_name\u001b[49m\u001b[43m)\u001b[49m\n\u001b[0;32m   5784\u001b[0m keyarr \u001b[38;5;241m=\u001b[39m \u001b[38;5;28mself\u001b[39m\u001b[38;5;241m.\u001b[39mtake(indexer)\n\u001b[0;32m   5785\u001b[0m \u001b[38;5;28;01mif\u001b[39;00m \u001b[38;5;28misinstance\u001b[39m(key, Index):\n\u001b[0;32m   5786\u001b[0m     \u001b[38;5;66;03m# GH 42790 - Preserve name from an Index\u001b[39;00m\n",
      "File \u001b[1;32mc:\\Users\\braiz\\anaconda3\\lib\\site-packages\\pandas\\core\\indexes\\base.py:5845\u001b[0m, in \u001b[0;36mIndex._raise_if_missing\u001b[1;34m(self, key, indexer, axis_name)\u001b[0m\n\u001b[0;32m   5842\u001b[0m     \u001b[38;5;28;01mraise\u001b[39;00m \u001b[38;5;167;01mKeyError\u001b[39;00m(\u001b[38;5;124mf\u001b[39m\u001b[38;5;124m\"\u001b[39m\u001b[38;5;124mNone of [\u001b[39m\u001b[38;5;132;01m{\u001b[39;00mkey\u001b[38;5;132;01m}\u001b[39;00m\u001b[38;5;124m] are in the [\u001b[39m\u001b[38;5;132;01m{\u001b[39;00maxis_name\u001b[38;5;132;01m}\u001b[39;00m\u001b[38;5;124m]\u001b[39m\u001b[38;5;124m\"\u001b[39m)\n\u001b[0;32m   5844\u001b[0m not_found \u001b[38;5;241m=\u001b[39m \u001b[38;5;28mlist\u001b[39m(ensure_index(key)[missing_mask\u001b[38;5;241m.\u001b[39mnonzero()[\u001b[38;5;241m0\u001b[39m]]\u001b[38;5;241m.\u001b[39munique())\n\u001b[1;32m-> 5845\u001b[0m \u001b[38;5;28;01mraise\u001b[39;00m \u001b[38;5;167;01mKeyError\u001b[39;00m(\u001b[38;5;124mf\u001b[39m\u001b[38;5;124m\"\u001b[39m\u001b[38;5;132;01m{\u001b[39;00mnot_found\u001b[38;5;132;01m}\u001b[39;00m\u001b[38;5;124m not in index\u001b[39m\u001b[38;5;124m\"\u001b[39m)\n",
      "\u001b[1;31mKeyError\u001b[0m: \"['note_spectateurs'] not in index\""
     ]
    }
   ],
   "source": [
    "sns.lmplot(x='note_presse',y='note_spectateurs',data=df,ci=100,line_kws={'color': 'red'},);"
   ]
  }
 ],
 "metadata": {
  "kernelspec": {
   "display_name": "Python 3 (ipykernel)",
   "language": "python",
   "name": "python3"
  },
  "language_info": {
   "codemirror_mode": {
    "name": "ipython",
    "version": 3
   },
   "file_extension": ".py",
   "mimetype": "text/x-python",
   "name": "python",
   "nbconvert_exporter": "python",
   "pygments_lexer": "ipython3",
   "version": "3.9.12"
  }
 },
 "nbformat": 4,
 "nbformat_minor": 5
}
