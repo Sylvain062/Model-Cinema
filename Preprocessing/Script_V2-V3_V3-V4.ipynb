{
 "cells": [
  {
   "cell_type": "code",
   "execution_count": 18,
   "metadata": {},
   "outputs": [],
   "source": [
    "import pandas as pd\n",
    "\n",
    "#  Importer le fichier csv.\n",
    "df = pd.read_csv('Data/allocineV2-SB.csv')\n",
    "\n",
    "# Nombre de lignes avant la suppression.\n",
    "len_avant = len(df)\n",
    "\n",
    "# Suppression des ligne qui ont une valeur manquante dans les colonnes choisies.\n",
    "df = df.dropna(subset=['premiere_semaine_france', 'cumul_france', 'date2'])\n",
    "\n",
    "# Affichage du nombre de lignes effacé. \n",
    "print(len_avant - len(df))\n",
    "\n",
    "# Exporter le df en csv\n",
    "df.to_csv('Data/allocineV3-ND.csv', index=False)"
   ]
  },
  {
   "cell_type": "code",
   "execution_count": 1,
   "metadata": {},
   "outputs": [],
   "source": [
    "# Importer le DataFrame\n",
    "df = pd.read_csv('Data/allocineV3-ND.csv')\n",
    "\n",
    "# Remplacer les valeurs manquantes de la colonne 'titre_original' par la valeur de la colonne 'titre'.\n",
    "df['titre_original'] = df['titre_original'].fillna(df['titre'])\n",
    "\n",
    "# Exporter le DataFrame\n",
    "df.to_csv(f'Data/allocineV4-ND.csv', index=False)\n",
    "\n"
   ]
  }
 ],
 "metadata": {
  "kernelspec": {
   "display_name": "base",
   "language": "python",
   "name": "python3"
  },
  "language_info": {
   "codemirror_mode": {
    "name": "ipython",
    "version": 3
   },
   "file_extension": ".py",
   "mimetype": "text/x-python",
   "name": "python",
   "nbconvert_exporter": "python",
   "pygments_lexer": "ipython3",
   "version": "3.11.5"
  }
 },
 "nbformat": 4,
 "nbformat_minor": 2
}
