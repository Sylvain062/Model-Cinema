{
 "cells": [
  {
   "cell_type": "code",
   "execution_count": 41,
   "metadata": {},
   "outputs": [
    {
     "name": "stdout",
     "output_type": "stream",
     "text": [
      "(7443, 3) df\n",
      "(10902, 32) df2 avant\n",
      "(10902, 32) df2\n",
      "(10912, 34)  df2 suite\n",
      "(10897, 34) df2 suite drop\n"
     ]
    },
    {
     "data": {
      "text/plain": [
       "ID                           int64\n",
       "titre_original              object\n",
       "acteur_1                    object\n",
       "acteur_2                    object\n",
       "acteur_3                    object\n",
       "acteur_4                    object\n",
       "real_1                      object\n",
       "real_2                      object\n",
       "real_3                      object\n",
       "scen_1                      object\n",
       "scen_2                      object\n",
       "scen_3                      object\n",
       "distrib_1                   object\n",
       "distrib_2                   object\n",
       "distrib_3                   object\n",
       "genre_1                     object\n",
       "genre_2                     object\n",
       "genre_3                     object\n",
       "genre_4                     object\n",
       "genre_5                     object\n",
       "genre_6                     object\n",
       "genre_7                     object\n",
       "pays                        object\n",
       "jour_sortie                float64\n",
       "mois_sortie                float64\n",
       "annee_sortie               float64\n",
       "day_of_week_sortie         float64\n",
       "note_presse                float64\n",
       "duree                      float64\n",
       "premiere_semaine_france    float64\n",
       "Budget_dollards            float64\n",
       "dtype: object"
      ]
     },
     "execution_count": 41,
     "metadata": {},
     "output_type": "execute_result"
    }
   ],
   "source": [
    "#///////////////////////\n",
    "# budgets //////////////////////\n",
    "#///////////////////////////////////////////\n",
    "import numpy as np\n",
    "import pandas as pd\n",
    "import matplotlib.pyplot as plt\n",
    "%matplotlib inline\n",
    "import seaborn as sns\n",
    "import os\n",
    "import re\n",
    "import unicodedata\n",
    "from unidecode import unidecode\n",
    "os.chdir('D:\\Sylvain\\GitHub\\Model-Cinema')\n",
    "#***********************************************************************\n",
    "df=pd.read_csv('Data/Archives/budgets2.csv', sep=\";\")\n",
    "\n",
    "print(df.shape,'df')\n",
    "df2=pd.read_csv('Data/allocineV6-ND.csv')\n",
    "print(df2.shape,'df2 avant')\n",
    "print(df2.shape,'df2')\n",
    "\n",
    "df2 = pd.merge(df2, df, left_on = 'ID', right_on = 'ID', how='left')\n",
    "print(df2.shape,' df2 suite')\n",
    "df2 = df2.drop_duplicates(subset ='ID',keep = 'first')\n",
    "print(df2.shape,'df2 suite drop')\n",
    "df2=df2[['ID', 'titre_original', 'acteur_1', 'acteur_2',\n",
    "       'acteur_3', 'acteur_4', 'real_1', 'real_2', 'real_3', 'scen_1',\n",
    "       'scen_2', 'scen_3', 'distrib_1', 'distrib_2', 'distrib_3', 'genre_1',\n",
    "       'genre_2', 'genre_3', 'genre_4', 'genre_5', 'genre_6', 'genre_7',\n",
    "       'pays', 'jour_sortie', 'mois_sortie', 'annee_sortie',\n",
    "       'day_of_week_sortie', 'note_presse', 'duree', 'premiere_semaine_france', 'Budget_dollards']]\n",
    "\n",
    "df2.to_csv('Data/allocineV7-SB.csv')\n",
    "\n",
    "df2.dtypes"
   ]
  },
  {
   "cell_type": "markdown",
   "metadata": {},
   "source": []
  }
 ],
 "metadata": {
  "kernelspec": {
   "display_name": "base",
   "language": "python",
   "name": "python3"
  },
  "language_info": {
   "codemirror_mode": {
    "name": "ipython",
    "version": 3
   },
   "file_extension": ".py",
   "mimetype": "text/x-python",
   "name": "python",
   "nbconvert_exporter": "python",
   "pygments_lexer": "ipython3",
   "version": "3.9.12"
  }
 },
 "nbformat": 4,
 "nbformat_minor": 2
}
