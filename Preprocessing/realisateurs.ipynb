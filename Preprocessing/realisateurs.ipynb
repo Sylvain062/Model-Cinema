{
 "cells": [
  {
   "cell_type": "code",
   "execution_count": 7,
   "metadata": {},
   "outputs": [],
   "source": [
    "#///////////////////////\n",
    "# realisateurs //////////////////////\n",
    "#///////////////////////////////////////////\n",
    "import numpy as np\n",
    "import pandas as pd\n",
    "import matplotlib.pyplot as plt\n",
    "%matplotlib inline\n",
    "import seaborn as sns\n",
    "import os\n",
    "import re\n",
    "import unicodedata\n",
    "from unidecode import unidecode\n",
    "os.chdir('D:\\Sylvain\\GitHub\\Model-Cinema')\n",
    "#***********************************************************************\n",
    "df=pd.read_csv('Data/Archives/base_real.csv', sep=\";\")\n",
    "df.to_csv('Data/BDD_Fin_Realisateurs.csv')\n",
    "# merge des fréquences"
   ]
  },
  {
   "cell_type": "markdown",
   "metadata": {},
   "source": []
  }
 ],
 "metadata": {
  "kernelspec": {
   "display_name": "base",
   "language": "python",
   "name": "python3"
  },
  "language_info": {
   "codemirror_mode": {
    "name": "ipython",
    "version": 3
   },
   "file_extension": ".py",
   "mimetype": "text/x-python",
   "name": "python",
   "nbconvert_exporter": "python",
   "pygments_lexer": "ipython3",
   "version": "3.9.12"
  }
 },
 "nbformat": 4,
 "nbformat_minor": 2
}
